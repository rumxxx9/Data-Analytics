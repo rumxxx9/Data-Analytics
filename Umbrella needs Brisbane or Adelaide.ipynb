{
 "cells": [
  {
   "cell_type": "markdown",
   "metadata": {},
   "source": []
  },
  {
   "cell_type": "code",
   "execution_count": 1,
   "metadata": {},
   "outputs": [
    {
     "name": "stderr",
     "output_type": "stream",
     "text": [
      "C:\\Users\\katie\\AppData\\Local\\Temp\\ipykernel_3464\\2687411245.py:3: DeprecationWarning: Importing display from IPython.core.display is deprecated since IPython 7.14, please import from IPython display\n",
      "  from IPython.core.display import display, HTML\n"
     ]
    }
   ],
   "source": [
    "# Complete the following cell with your details and run to produce your personalised header for this assignment\n",
    "\n",
    "from IPython.core.display import display, HTML"
   ]
  },
  {
   "cell_type": "markdown",
   "metadata": {},
   "source": [
    "---\n",
    "\n",
    "## QUESTION 1\n",
    "\n",
    "#### Question: \n",
    "\n",
    "Using *Bureau of Meteorology* Climate Data Online, investigate the daily rainfall for Brisbane and identify significant periods of time during the last 3 years. Once you have found significant periods of time, compare Brisbane's rainfall for those periods with another Australian city of your choice. What insights can be gained from your analysis, and who might benefit from them?\n",
    "\n",
    "#### Data:\n",
    "\n",
    "[BOM Climate Data Online](http://www.bom.gov.au/climate/data/index.shtml?bookmark=136)\n"
   ]
  },
  {
   "cell_type": "code",
   "execution_count": 2,
   "metadata": {},
   "outputs": [],
   "source": [
    "# import libraries for this question here\n",
    "import pandas as pd \n",
    "import numpy as np\n",
    "import matplotlib.pyplot as plt"
   ]
  },
  {
   "cell_type": "markdown",
   "metadata": {},
   "source": [
    "### 1.1 Question"
   ]
  },
  {
   "cell_type": "markdown",
   "metadata": {},
   "source": [
    "*## Your interpretation of the question here ##*\n",
    "\n",
    "> **CONCERN:** An international umbrella company intends to start a new business in either Brisbane or Adelaide next year. However, management is unsure which city to start. They are also unsure what kind of umbrellas (umbrellas or sun umbrellas) and how much stock would be needed in each city every month of the year.\n",
    "\n",
    "- **Q1: What city should this international umbrella company starts their business in and help them succeed?**\n",
    "\n",
    "**Description**：According to the above concern, the key stakeholders interested in the question should be the management of this international umbrella company. The answer to question 1 will help them identify which city they should start their new business in. It contains the question about the total rainfall amount in Brisbane and Adelaide over the past 3 years.\n",
    "\n",
    "- **Q2：In which months should this International Umbrella's product inventory adjustments be made?**\n",
    "\n",
    "**Description**：Investigate the daily rainfall for Brisbane and identify significant periods of time during the last 3 years. The significant periods of time here should be the months of every year has higher rainfall than the average monthly rainfall in Brisbane over the past 3 years. This part contains which months of every year have higher rainfall than the average monthly rainfall in Brisbane over the past 3 years.\n",
    "\n",
    "- **Q3：How can this International Umbrella Company develop its business in these two cities to maximise its profits?**\n",
    "\n",
    "**Description**：Identify significant time periods in the past 3 years in Brisbane and compare it to Adelaide. This part contains the significant periods during the last 3 years in Brisbane and the rainfall difference between Brisbane and Adelaide during the same period.\n"
   ]
  },
  {
   "cell_type": "markdown",
   "metadata": {},
   "source": [
    "### 1.2 Data"
   ]
  },
  {
   "cell_type": "code",
   "execution_count": 3,
   "metadata": {},
   "outputs": [
    {
     "ename": "FileNotFoundError",
     "evalue": "[Errno 2] No such file or directory: 'Brisbane_Data.csv'",
     "output_type": "error",
     "traceback": [
      "\u001b[1;31m---------------------------------------------------------------------------\u001b[0m",
      "\u001b[1;31mFileNotFoundError\u001b[0m                         Traceback (most recent call last)",
      "Cell \u001b[1;32mIn [3], line 3\u001b[0m\n\u001b[0;32m      1\u001b[0m \u001b[38;5;66;03m# Import the data\u001b[39;00m\n\u001b[0;32m      2\u001b[0m \u001b[38;5;66;03m# Clean/prepare the data for analysis\u001b[39;00m\n\u001b[1;32m----> 3\u001b[0m Brisbane_Data \u001b[38;5;241m=\u001b[39m \u001b[43mpd\u001b[49m\u001b[38;5;241;43m.\u001b[39;49m\u001b[43mread_csv\u001b[49m\u001b[43m(\u001b[49m\u001b[38;5;124;43m\"\u001b[39;49m\u001b[38;5;124;43mBrisbane_Data.csv\u001b[39;49m\u001b[38;5;124;43m\"\u001b[39;49m\u001b[43m,\u001b[49m\u001b[43m \u001b[49m\u001b[43mindex_col\u001b[49m\u001b[38;5;241;43m=\u001b[39;49m\u001b[38;5;241;43m0\u001b[39;49m\u001b[43m)\u001b[49m\n\u001b[0;32m      4\u001b[0m Adelaide_Data \u001b[38;5;241m=\u001b[39m pd\u001b[38;5;241m.\u001b[39mread_csv(\u001b[38;5;124m\"\u001b[39m\u001b[38;5;124mAdelaide_Data.csv\u001b[39m\u001b[38;5;124m\"\u001b[39m, index_col\u001b[38;5;241m=\u001b[39m\u001b[38;5;241m0\u001b[39m)\n\u001b[0;32m      6\u001b[0m \u001b[38;5;66;03m#Select data from 2019 to 2021\u001b[39;00m\n",
      "File \u001b[1;32mc:\\Users\\katie\\anaconda3\\lib\\site-packages\\pandas\\util\\_decorators.py:311\u001b[0m, in \u001b[0;36mdeprecate_nonkeyword_arguments.<locals>.decorate.<locals>.wrapper\u001b[1;34m(*args, **kwargs)\u001b[0m\n\u001b[0;32m    305\u001b[0m \u001b[38;5;28;01mif\u001b[39;00m \u001b[38;5;28mlen\u001b[39m(args) \u001b[38;5;241m>\u001b[39m num_allow_args:\n\u001b[0;32m    306\u001b[0m     warnings\u001b[38;5;241m.\u001b[39mwarn(\n\u001b[0;32m    307\u001b[0m         msg\u001b[38;5;241m.\u001b[39mformat(arguments\u001b[38;5;241m=\u001b[39marguments),\n\u001b[0;32m    308\u001b[0m         \u001b[38;5;167;01mFutureWarning\u001b[39;00m,\n\u001b[0;32m    309\u001b[0m         stacklevel\u001b[38;5;241m=\u001b[39mstacklevel,\n\u001b[0;32m    310\u001b[0m     )\n\u001b[1;32m--> 311\u001b[0m \u001b[38;5;28;01mreturn\u001b[39;00m func(\u001b[38;5;241m*\u001b[39margs, \u001b[38;5;241m*\u001b[39m\u001b[38;5;241m*\u001b[39mkwargs)\n",
      "File \u001b[1;32mc:\\Users\\katie\\anaconda3\\lib\\site-packages\\pandas\\io\\parsers\\readers.py:678\u001b[0m, in \u001b[0;36mread_csv\u001b[1;34m(filepath_or_buffer, sep, delimiter, header, names, index_col, usecols, squeeze, prefix, mangle_dupe_cols, dtype, engine, converters, true_values, false_values, skipinitialspace, skiprows, skipfooter, nrows, na_values, keep_default_na, na_filter, verbose, skip_blank_lines, parse_dates, infer_datetime_format, keep_date_col, date_parser, dayfirst, cache_dates, iterator, chunksize, compression, thousands, decimal, lineterminator, quotechar, quoting, doublequote, escapechar, comment, encoding, encoding_errors, dialect, error_bad_lines, warn_bad_lines, on_bad_lines, delim_whitespace, low_memory, memory_map, float_precision, storage_options)\u001b[0m\n\u001b[0;32m    663\u001b[0m kwds_defaults \u001b[38;5;241m=\u001b[39m _refine_defaults_read(\n\u001b[0;32m    664\u001b[0m     dialect,\n\u001b[0;32m    665\u001b[0m     delimiter,\n\u001b[1;32m   (...)\u001b[0m\n\u001b[0;32m    674\u001b[0m     defaults\u001b[38;5;241m=\u001b[39m{\u001b[38;5;124m\"\u001b[39m\u001b[38;5;124mdelimiter\u001b[39m\u001b[38;5;124m\"\u001b[39m: \u001b[38;5;124m\"\u001b[39m\u001b[38;5;124m,\u001b[39m\u001b[38;5;124m\"\u001b[39m},\n\u001b[0;32m    675\u001b[0m )\n\u001b[0;32m    676\u001b[0m kwds\u001b[38;5;241m.\u001b[39mupdate(kwds_defaults)\n\u001b[1;32m--> 678\u001b[0m \u001b[38;5;28;01mreturn\u001b[39;00m \u001b[43m_read\u001b[49m\u001b[43m(\u001b[49m\u001b[43mfilepath_or_buffer\u001b[49m\u001b[43m,\u001b[49m\u001b[43m \u001b[49m\u001b[43mkwds\u001b[49m\u001b[43m)\u001b[49m\n",
      "File \u001b[1;32mc:\\Users\\katie\\anaconda3\\lib\\site-packages\\pandas\\io\\parsers\\readers.py:575\u001b[0m, in \u001b[0;36m_read\u001b[1;34m(filepath_or_buffer, kwds)\u001b[0m\n\u001b[0;32m    572\u001b[0m _validate_names(kwds\u001b[38;5;241m.\u001b[39mget(\u001b[38;5;124m\"\u001b[39m\u001b[38;5;124mnames\u001b[39m\u001b[38;5;124m\"\u001b[39m, \u001b[38;5;28;01mNone\u001b[39;00m))\n\u001b[0;32m    574\u001b[0m \u001b[38;5;66;03m# Create the parser.\u001b[39;00m\n\u001b[1;32m--> 575\u001b[0m parser \u001b[38;5;241m=\u001b[39m TextFileReader(filepath_or_buffer, \u001b[38;5;241m*\u001b[39m\u001b[38;5;241m*\u001b[39mkwds)\n\u001b[0;32m    577\u001b[0m \u001b[38;5;28;01mif\u001b[39;00m chunksize \u001b[38;5;129;01mor\u001b[39;00m iterator:\n\u001b[0;32m    578\u001b[0m     \u001b[38;5;28;01mreturn\u001b[39;00m parser\n",
      "File \u001b[1;32mc:\\Users\\katie\\anaconda3\\lib\\site-packages\\pandas\\io\\parsers\\readers.py:932\u001b[0m, in \u001b[0;36mTextFileReader.__init__\u001b[1;34m(self, f, engine, **kwds)\u001b[0m\n\u001b[0;32m    929\u001b[0m     \u001b[38;5;28mself\u001b[39m\u001b[38;5;241m.\u001b[39moptions[\u001b[38;5;124m\"\u001b[39m\u001b[38;5;124mhas_index_names\u001b[39m\u001b[38;5;124m\"\u001b[39m] \u001b[38;5;241m=\u001b[39m kwds[\u001b[38;5;124m\"\u001b[39m\u001b[38;5;124mhas_index_names\u001b[39m\u001b[38;5;124m\"\u001b[39m]\n\u001b[0;32m    931\u001b[0m \u001b[38;5;28mself\u001b[39m\u001b[38;5;241m.\u001b[39mhandles: IOHandles \u001b[38;5;241m|\u001b[39m \u001b[38;5;28;01mNone\u001b[39;00m \u001b[38;5;241m=\u001b[39m \u001b[38;5;28;01mNone\u001b[39;00m\n\u001b[1;32m--> 932\u001b[0m \u001b[38;5;28mself\u001b[39m\u001b[38;5;241m.\u001b[39m_engine \u001b[38;5;241m=\u001b[39m \u001b[38;5;28;43mself\u001b[39;49m\u001b[38;5;241;43m.\u001b[39;49m\u001b[43m_make_engine\u001b[49m\u001b[43m(\u001b[49m\u001b[43mf\u001b[49m\u001b[43m,\u001b[49m\u001b[43m \u001b[49m\u001b[38;5;28;43mself\u001b[39;49m\u001b[38;5;241;43m.\u001b[39;49m\u001b[43mengine\u001b[49m\u001b[43m)\u001b[49m\n",
      "File \u001b[1;32mc:\\Users\\katie\\anaconda3\\lib\\site-packages\\pandas\\io\\parsers\\readers.py:1216\u001b[0m, in \u001b[0;36mTextFileReader._make_engine\u001b[1;34m(self, f, engine)\u001b[0m\n\u001b[0;32m   1212\u001b[0m     mode \u001b[38;5;241m=\u001b[39m \u001b[38;5;124m\"\u001b[39m\u001b[38;5;124mrb\u001b[39m\u001b[38;5;124m\"\u001b[39m\n\u001b[0;32m   1213\u001b[0m \u001b[38;5;66;03m# error: No overload variant of \"get_handle\" matches argument types\u001b[39;00m\n\u001b[0;32m   1214\u001b[0m \u001b[38;5;66;03m# \"Union[str, PathLike[str], ReadCsvBuffer[bytes], ReadCsvBuffer[str]]\"\u001b[39;00m\n\u001b[0;32m   1215\u001b[0m \u001b[38;5;66;03m# , \"str\", \"bool\", \"Any\", \"Any\", \"Any\", \"Any\", \"Any\"\u001b[39;00m\n\u001b[1;32m-> 1216\u001b[0m \u001b[38;5;28mself\u001b[39m\u001b[38;5;241m.\u001b[39mhandles \u001b[38;5;241m=\u001b[39m \u001b[43mget_handle\u001b[49m\u001b[43m(\u001b[49m\u001b[43m  \u001b[49m\u001b[38;5;66;43;03m# type: ignore[call-overload]\u001b[39;49;00m\n\u001b[0;32m   1217\u001b[0m \u001b[43m    \u001b[49m\u001b[43mf\u001b[49m\u001b[43m,\u001b[49m\n\u001b[0;32m   1218\u001b[0m \u001b[43m    \u001b[49m\u001b[43mmode\u001b[49m\u001b[43m,\u001b[49m\n\u001b[0;32m   1219\u001b[0m \u001b[43m    \u001b[49m\u001b[43mencoding\u001b[49m\u001b[38;5;241;43m=\u001b[39;49m\u001b[38;5;28;43mself\u001b[39;49m\u001b[38;5;241;43m.\u001b[39;49m\u001b[43moptions\u001b[49m\u001b[38;5;241;43m.\u001b[39;49m\u001b[43mget\u001b[49m\u001b[43m(\u001b[49m\u001b[38;5;124;43m\"\u001b[39;49m\u001b[38;5;124;43mencoding\u001b[39;49m\u001b[38;5;124;43m\"\u001b[39;49m\u001b[43m,\u001b[49m\u001b[43m \u001b[49m\u001b[38;5;28;43;01mNone\u001b[39;49;00m\u001b[43m)\u001b[49m\u001b[43m,\u001b[49m\n\u001b[0;32m   1220\u001b[0m \u001b[43m    \u001b[49m\u001b[43mcompression\u001b[49m\u001b[38;5;241;43m=\u001b[39;49m\u001b[38;5;28;43mself\u001b[39;49m\u001b[38;5;241;43m.\u001b[39;49m\u001b[43moptions\u001b[49m\u001b[38;5;241;43m.\u001b[39;49m\u001b[43mget\u001b[49m\u001b[43m(\u001b[49m\u001b[38;5;124;43m\"\u001b[39;49m\u001b[38;5;124;43mcompression\u001b[39;49m\u001b[38;5;124;43m\"\u001b[39;49m\u001b[43m,\u001b[49m\u001b[43m \u001b[49m\u001b[38;5;28;43;01mNone\u001b[39;49;00m\u001b[43m)\u001b[49m\u001b[43m,\u001b[49m\n\u001b[0;32m   1221\u001b[0m \u001b[43m    \u001b[49m\u001b[43mmemory_map\u001b[49m\u001b[38;5;241;43m=\u001b[39;49m\u001b[38;5;28;43mself\u001b[39;49m\u001b[38;5;241;43m.\u001b[39;49m\u001b[43moptions\u001b[49m\u001b[38;5;241;43m.\u001b[39;49m\u001b[43mget\u001b[49m\u001b[43m(\u001b[49m\u001b[38;5;124;43m\"\u001b[39;49m\u001b[38;5;124;43mmemory_map\u001b[39;49m\u001b[38;5;124;43m\"\u001b[39;49m\u001b[43m,\u001b[49m\u001b[43m \u001b[49m\u001b[38;5;28;43;01mFalse\u001b[39;49;00m\u001b[43m)\u001b[49m\u001b[43m,\u001b[49m\n\u001b[0;32m   1222\u001b[0m \u001b[43m    \u001b[49m\u001b[43mis_text\u001b[49m\u001b[38;5;241;43m=\u001b[39;49m\u001b[43mis_text\u001b[49m\u001b[43m,\u001b[49m\n\u001b[0;32m   1223\u001b[0m \u001b[43m    \u001b[49m\u001b[43merrors\u001b[49m\u001b[38;5;241;43m=\u001b[39;49m\u001b[38;5;28;43mself\u001b[39;49m\u001b[38;5;241;43m.\u001b[39;49m\u001b[43moptions\u001b[49m\u001b[38;5;241;43m.\u001b[39;49m\u001b[43mget\u001b[49m\u001b[43m(\u001b[49m\u001b[38;5;124;43m\"\u001b[39;49m\u001b[38;5;124;43mencoding_errors\u001b[39;49m\u001b[38;5;124;43m\"\u001b[39;49m\u001b[43m,\u001b[49m\u001b[43m \u001b[49m\u001b[38;5;124;43m\"\u001b[39;49m\u001b[38;5;124;43mstrict\u001b[39;49m\u001b[38;5;124;43m\"\u001b[39;49m\u001b[43m)\u001b[49m\u001b[43m,\u001b[49m\n\u001b[0;32m   1224\u001b[0m \u001b[43m    \u001b[49m\u001b[43mstorage_options\u001b[49m\u001b[38;5;241;43m=\u001b[39;49m\u001b[38;5;28;43mself\u001b[39;49m\u001b[38;5;241;43m.\u001b[39;49m\u001b[43moptions\u001b[49m\u001b[38;5;241;43m.\u001b[39;49m\u001b[43mget\u001b[49m\u001b[43m(\u001b[49m\u001b[38;5;124;43m\"\u001b[39;49m\u001b[38;5;124;43mstorage_options\u001b[39;49m\u001b[38;5;124;43m\"\u001b[39;49m\u001b[43m,\u001b[49m\u001b[43m \u001b[49m\u001b[38;5;28;43;01mNone\u001b[39;49;00m\u001b[43m)\u001b[49m\u001b[43m,\u001b[49m\n\u001b[0;32m   1225\u001b[0m \u001b[43m\u001b[49m\u001b[43m)\u001b[49m\n\u001b[0;32m   1226\u001b[0m \u001b[38;5;28;01massert\u001b[39;00m \u001b[38;5;28mself\u001b[39m\u001b[38;5;241m.\u001b[39mhandles \u001b[38;5;129;01mis\u001b[39;00m \u001b[38;5;129;01mnot\u001b[39;00m \u001b[38;5;28;01mNone\u001b[39;00m\n\u001b[0;32m   1227\u001b[0m f \u001b[38;5;241m=\u001b[39m \u001b[38;5;28mself\u001b[39m\u001b[38;5;241m.\u001b[39mhandles\u001b[38;5;241m.\u001b[39mhandle\n",
      "File \u001b[1;32mc:\\Users\\katie\\anaconda3\\lib\\site-packages\\pandas\\io\\common.py:786\u001b[0m, in \u001b[0;36mget_handle\u001b[1;34m(path_or_buf, mode, encoding, compression, memory_map, is_text, errors, storage_options)\u001b[0m\n\u001b[0;32m    781\u001b[0m \u001b[38;5;28;01melif\u001b[39;00m \u001b[38;5;28misinstance\u001b[39m(handle, \u001b[38;5;28mstr\u001b[39m):\n\u001b[0;32m    782\u001b[0m     \u001b[38;5;66;03m# Check whether the filename is to be opened in binary mode.\u001b[39;00m\n\u001b[0;32m    783\u001b[0m     \u001b[38;5;66;03m# Binary mode does not support 'encoding' and 'newline'.\u001b[39;00m\n\u001b[0;32m    784\u001b[0m     \u001b[38;5;28;01mif\u001b[39;00m ioargs\u001b[38;5;241m.\u001b[39mencoding \u001b[38;5;129;01mand\u001b[39;00m \u001b[38;5;124m\"\u001b[39m\u001b[38;5;124mb\u001b[39m\u001b[38;5;124m\"\u001b[39m \u001b[38;5;129;01mnot\u001b[39;00m \u001b[38;5;129;01min\u001b[39;00m ioargs\u001b[38;5;241m.\u001b[39mmode:\n\u001b[0;32m    785\u001b[0m         \u001b[38;5;66;03m# Encoding\u001b[39;00m\n\u001b[1;32m--> 786\u001b[0m         handle \u001b[38;5;241m=\u001b[39m \u001b[38;5;28;43mopen\u001b[39;49m\u001b[43m(\u001b[49m\n\u001b[0;32m    787\u001b[0m \u001b[43m            \u001b[49m\u001b[43mhandle\u001b[49m\u001b[43m,\u001b[49m\n\u001b[0;32m    788\u001b[0m \u001b[43m            \u001b[49m\u001b[43mioargs\u001b[49m\u001b[38;5;241;43m.\u001b[39;49m\u001b[43mmode\u001b[49m\u001b[43m,\u001b[49m\n\u001b[0;32m    789\u001b[0m \u001b[43m            \u001b[49m\u001b[43mencoding\u001b[49m\u001b[38;5;241;43m=\u001b[39;49m\u001b[43mioargs\u001b[49m\u001b[38;5;241;43m.\u001b[39;49m\u001b[43mencoding\u001b[49m\u001b[43m,\u001b[49m\n\u001b[0;32m    790\u001b[0m \u001b[43m            \u001b[49m\u001b[43merrors\u001b[49m\u001b[38;5;241;43m=\u001b[39;49m\u001b[43merrors\u001b[49m\u001b[43m,\u001b[49m\n\u001b[0;32m    791\u001b[0m \u001b[43m            \u001b[49m\u001b[43mnewline\u001b[49m\u001b[38;5;241;43m=\u001b[39;49m\u001b[38;5;124;43m\"\u001b[39;49m\u001b[38;5;124;43m\"\u001b[39;49m\u001b[43m,\u001b[49m\n\u001b[0;32m    792\u001b[0m \u001b[43m        \u001b[49m\u001b[43m)\u001b[49m\n\u001b[0;32m    793\u001b[0m     \u001b[38;5;28;01melse\u001b[39;00m:\n\u001b[0;32m    794\u001b[0m         \u001b[38;5;66;03m# Binary mode\u001b[39;00m\n\u001b[0;32m    795\u001b[0m         handle \u001b[38;5;241m=\u001b[39m \u001b[38;5;28mopen\u001b[39m(handle, ioargs\u001b[38;5;241m.\u001b[39mmode)\n",
      "\u001b[1;31mFileNotFoundError\u001b[0m: [Errno 2] No such file or directory: 'Brisbane_Data.csv'"
     ]
    }
   ],
   "source": [
    "# Import the data\n",
    "# Clean/prepare the data for analysis\n",
    "Brisbane_Data = pd.read_csv(\"Brisbane_Data.csv\", index_col=0)\n",
    "Adelaide_Data = pd.read_csv(\"Adelaide_Data.csv\", index_col=0)\n",
    "\n",
    "#Select data from 2019 to 2021\n",
    "Brisbane_3Data = Brisbane_Data.loc[(Brisbane_Data[\"Year\"]>2018)&(Brisbane_Data[\"Year\"]<2022)]\n",
    "Adelaide_3Data = Adelaide_Data.loc[(Adelaide_Data[\"Year\"]>2018)&(Adelaide_Data[\"Year\"]<2022)]"
   ]
  },
  {
   "cell_type": "markdown",
   "metadata": {},
   "source": [
    "### 1.3 Analysis"
   ]
  },
  {
   "cell_type": "code",
   "execution_count": null,
   "metadata": {},
   "outputs": [
    {
     "data": {
      "text/plain": [
       "32"
      ]
     },
     "execution_count": 44,
     "metadata": {},
     "output_type": "execute_result"
    }
   ],
   "source": [
    "#Test if the chosen two datasets has missing data on Rainfall amount (millimetres)\n",
    "testb = Brisbane_3Data[\"Rainfall amount (millimetres)\"].isnull().sum()\n",
    "testa = Adelaide_3Data[\"Rainfall amount (millimetres)\"].isnull().sum()\n",
    "\n",
    "testb"
   ]
  },
  {
   "cell_type": "markdown",
   "metadata": {},
   "source": [
    "For the test part, I need to confirm that the dataset is complete and ready to be used. "
   ]
  },
  {
   "cell_type": "code",
   "execution_count": null,
   "metadata": {},
   "outputs": [
    {
     "name": "stdout",
     "output_type": "stream",
     "text": [
      "<class 'pandas.core.frame.DataFrame'>\n",
      "Index: 1096 entries, IDCJAC0009 to IDCJAC0009\n",
      "Data columns (total 7 columns):\n",
      " #   Column                                          Non-Null Count  Dtype  \n",
      "---  ------                                          --------------  -----  \n",
      " 0   Bureau of Meteorology station number            1096 non-null   int64  \n",
      " 1   Year                                            1096 non-null   int64  \n",
      " 2   Month                                           1096 non-null   int64  \n",
      " 3   Day                                             1096 non-null   int64  \n",
      " 4   Rainfall amount (millimetres)                   1064 non-null   float64\n",
      " 5   Period over which rainfall was measured (days)  1064 non-null   float64\n",
      " 6   Quality                                         1064 non-null   object \n",
      "dtypes: float64(2), int64(4), object(1)\n",
      "memory usage: 68.5+ KB\n",
      "<class 'pandas.core.frame.DataFrame'>\n",
      "Index: 1096 entries, IDCJAC0009 to IDCJAC0009\n",
      "Data columns (total 7 columns):\n",
      " #   Column                                          Non-Null Count  Dtype  \n",
      "---  ------                                          --------------  -----  \n",
      " 0   Bureau of Meteorology station number            1096 non-null   int64  \n",
      " 1   Year                                            1096 non-null   int64  \n",
      " 2   Month                                           1096 non-null   int64  \n",
      " 3   Day                                             1096 non-null   int64  \n",
      " 4   Rainfall amount (millimetres)                   1086 non-null   float64\n",
      " 5   Period over which rainfall was measured (days)  1086 non-null   float64\n",
      " 6   Quality                                         1086 non-null   object \n",
      "dtypes: float64(2), int64(4), object(1)\n",
      "memory usage: 68.5+ KB\n"
     ]
    }
   ],
   "source": [
    "#Test and see the datasets' info\n",
    "Brisbane_3Data.info()\n",
    "Adelaide_3Data.info()"
   ]
  },
  {
   "cell_type": "code",
   "execution_count": null,
   "metadata": {},
   "outputs": [
    {
     "name": "stderr",
     "output_type": "stream",
     "text": [
      "/tmp/ipykernel_289/3905670331.py:4: SettingWithCopyWarning: \n",
      "A value is trying to be set on a copy of a slice from a DataFrame.\n",
      "Try using .loc[row_indexer,col_indexer] = value instead\n",
      "\n",
      "See the caveats in the documentation: https://pandas.pydata.org/pandas-docs/stable/user_guide/indexing.html#returning-a-view-versus-a-copy\n",
      "  Brisbane_3Data[\"Brisbane_Mean\"] = Brisbane_3Data[\"Rainfall amount (millimetres)\"].fillna(bne_mean)\n",
      "/tmp/ipykernel_289/3905670331.py:7: SettingWithCopyWarning: \n",
      "A value is trying to be set on a copy of a slice from a DataFrame.\n",
      "Try using .loc[row_indexer,col_indexer] = value instead\n",
      "\n",
      "See the caveats in the documentation: https://pandas.pydata.org/pandas-docs/stable/user_guide/indexing.html#returning-a-view-versus-a-copy\n",
      "  Adelaide_3Data[\"Adelaide_Mean\"] = Adelaide_3Data[\"Rainfall amount (millimetres)\"].fillna(adel_mean)\n"
     ]
    },
    {
     "data": {
      "text/html": [
       "<div>\n",
       "<style scoped>\n",
       "    .dataframe tbody tr th:only-of-type {\n",
       "        vertical-align: middle;\n",
       "    }\n",
       "\n",
       "    .dataframe tbody tr th {\n",
       "        vertical-align: top;\n",
       "    }\n",
       "\n",
       "    .dataframe thead th {\n",
       "        text-align: right;\n",
       "    }\n",
       "</style>\n",
       "<table border=\"1\" class=\"dataframe\">\n",
       "  <thead>\n",
       "    <tr style=\"text-align: right;\">\n",
       "      <th></th>\n",
       "      <th>Bureau of Meteorology station number</th>\n",
       "      <th>Year</th>\n",
       "      <th>Month</th>\n",
       "      <th>Day</th>\n",
       "      <th>Rainfall amount (millimetres)</th>\n",
       "      <th>Period over which rainfall was measured (days)</th>\n",
       "      <th>Quality</th>\n",
       "      <th>Brisbane_Mean</th>\n",
       "    </tr>\n",
       "    <tr>\n",
       "      <th>Product code</th>\n",
       "      <th></th>\n",
       "      <th></th>\n",
       "      <th></th>\n",
       "      <th></th>\n",
       "      <th></th>\n",
       "      <th></th>\n",
       "      <th></th>\n",
       "      <th></th>\n",
       "    </tr>\n",
       "  </thead>\n",
       "  <tbody>\n",
       "    <tr>\n",
       "      <th>IDCJAC0009</th>\n",
       "      <td>40913</td>\n",
       "      <td>2019</td>\n",
       "      <td>1</td>\n",
       "      <td>1</td>\n",
       "      <td>0.0</td>\n",
       "      <td>1.0</td>\n",
       "      <td>N</td>\n",
       "      <td>0.0</td>\n",
       "    </tr>\n",
       "    <tr>\n",
       "      <th>IDCJAC0009</th>\n",
       "      <td>40913</td>\n",
       "      <td>2019</td>\n",
       "      <td>1</td>\n",
       "      <td>2</td>\n",
       "      <td>0.0</td>\n",
       "      <td>1.0</td>\n",
       "      <td>N</td>\n",
       "      <td>0.0</td>\n",
       "    </tr>\n",
       "    <tr>\n",
       "      <th>IDCJAC0009</th>\n",
       "      <td>40913</td>\n",
       "      <td>2019</td>\n",
       "      <td>1</td>\n",
       "      <td>3</td>\n",
       "      <td>8.4</td>\n",
       "      <td>1.0</td>\n",
       "      <td>N</td>\n",
       "      <td>8.4</td>\n",
       "    </tr>\n",
       "    <tr>\n",
       "      <th>IDCJAC0009</th>\n",
       "      <td>40913</td>\n",
       "      <td>2019</td>\n",
       "      <td>1</td>\n",
       "      <td>4</td>\n",
       "      <td>7.0</td>\n",
       "      <td>1.0</td>\n",
       "      <td>N</td>\n",
       "      <td>7.0</td>\n",
       "    </tr>\n",
       "    <tr>\n",
       "      <th>IDCJAC0009</th>\n",
       "      <td>40913</td>\n",
       "      <td>2019</td>\n",
       "      <td>1</td>\n",
       "      <td>5</td>\n",
       "      <td>0.2</td>\n",
       "      <td>1.0</td>\n",
       "      <td>N</td>\n",
       "      <td>0.2</td>\n",
       "    </tr>\n",
       "    <tr>\n",
       "      <th>...</th>\n",
       "      <td>...</td>\n",
       "      <td>...</td>\n",
       "      <td>...</td>\n",
       "      <td>...</td>\n",
       "      <td>...</td>\n",
       "      <td>...</td>\n",
       "      <td>...</td>\n",
       "      <td>...</td>\n",
       "    </tr>\n",
       "    <tr>\n",
       "      <th>IDCJAC0009</th>\n",
       "      <td>40913</td>\n",
       "      <td>2021</td>\n",
       "      <td>12</td>\n",
       "      <td>27</td>\n",
       "      <td>0.0</td>\n",
       "      <td>1.0</td>\n",
       "      <td>N</td>\n",
       "      <td>0.0</td>\n",
       "    </tr>\n",
       "    <tr>\n",
       "      <th>IDCJAC0009</th>\n",
       "      <td>40913</td>\n",
       "      <td>2021</td>\n",
       "      <td>12</td>\n",
       "      <td>28</td>\n",
       "      <td>14.6</td>\n",
       "      <td>1.0</td>\n",
       "      <td>N</td>\n",
       "      <td>14.6</td>\n",
       "    </tr>\n",
       "    <tr>\n",
       "      <th>IDCJAC0009</th>\n",
       "      <td>40913</td>\n",
       "      <td>2021</td>\n",
       "      <td>12</td>\n",
       "      <td>29</td>\n",
       "      <td>0.0</td>\n",
       "      <td>1.0</td>\n",
       "      <td>N</td>\n",
       "      <td>0.0</td>\n",
       "    </tr>\n",
       "    <tr>\n",
       "      <th>IDCJAC0009</th>\n",
       "      <td>40913</td>\n",
       "      <td>2021</td>\n",
       "      <td>12</td>\n",
       "      <td>30</td>\n",
       "      <td>0.0</td>\n",
       "      <td>1.0</td>\n",
       "      <td>N</td>\n",
       "      <td>0.0</td>\n",
       "    </tr>\n",
       "    <tr>\n",
       "      <th>IDCJAC0009</th>\n",
       "      <td>40913</td>\n",
       "      <td>2021</td>\n",
       "      <td>12</td>\n",
       "      <td>31</td>\n",
       "      <td>0.0</td>\n",
       "      <td>1.0</td>\n",
       "      <td>N</td>\n",
       "      <td>0.0</td>\n",
       "    </tr>\n",
       "  </tbody>\n",
       "</table>\n",
       "<p>1096 rows × 8 columns</p>\n",
       "</div>"
      ],
      "text/plain": [
       "              Bureau of Meteorology station number  Year  Month  Day  \\\n",
       "Product code                                                           \n",
       "IDCJAC0009                                   40913  2019      1    1   \n",
       "IDCJAC0009                                   40913  2019      1    2   \n",
       "IDCJAC0009                                   40913  2019      1    3   \n",
       "IDCJAC0009                                   40913  2019      1    4   \n",
       "IDCJAC0009                                   40913  2019      1    5   \n",
       "...                                            ...   ...    ...  ...   \n",
       "IDCJAC0009                                   40913  2021     12   27   \n",
       "IDCJAC0009                                   40913  2021     12   28   \n",
       "IDCJAC0009                                   40913  2021     12   29   \n",
       "IDCJAC0009                                   40913  2021     12   30   \n",
       "IDCJAC0009                                   40913  2021     12   31   \n",
       "\n",
       "              Rainfall amount (millimetres)  \\\n",
       "Product code                                  \n",
       "IDCJAC0009                              0.0   \n",
       "IDCJAC0009                              0.0   \n",
       "IDCJAC0009                              8.4   \n",
       "IDCJAC0009                              7.0   \n",
       "IDCJAC0009                              0.2   \n",
       "...                                     ...   \n",
       "IDCJAC0009                              0.0   \n",
       "IDCJAC0009                             14.6   \n",
       "IDCJAC0009                              0.0   \n",
       "IDCJAC0009                              0.0   \n",
       "IDCJAC0009                              0.0   \n",
       "\n",
       "              Period over which rainfall was measured (days) Quality  \\\n",
       "Product code                                                           \n",
       "IDCJAC0009                                               1.0       N   \n",
       "IDCJAC0009                                               1.0       N   \n",
       "IDCJAC0009                                               1.0       N   \n",
       "IDCJAC0009                                               1.0       N   \n",
       "IDCJAC0009                                               1.0       N   \n",
       "...                                                      ...     ...   \n",
       "IDCJAC0009                                               1.0       N   \n",
       "IDCJAC0009                                               1.0       N   \n",
       "IDCJAC0009                                               1.0       N   \n",
       "IDCJAC0009                                               1.0       N   \n",
       "IDCJAC0009                                               1.0       N   \n",
       "\n",
       "              Brisbane_Mean  \n",
       "Product code                 \n",
       "IDCJAC0009              0.0  \n",
       "IDCJAC0009              0.0  \n",
       "IDCJAC0009              8.4  \n",
       "IDCJAC0009              7.0  \n",
       "IDCJAC0009              0.2  \n",
       "...                     ...  \n",
       "IDCJAC0009              0.0  \n",
       "IDCJAC0009             14.6  \n",
       "IDCJAC0009              0.0  \n",
       "IDCJAC0009              0.0  \n",
       "IDCJAC0009              0.0  \n",
       "\n",
       "[1096 rows x 8 columns]"
      ]
     },
     "execution_count": 46,
     "metadata": {},
     "output_type": "execute_result"
    }
   ],
   "source": [
    "# Analyse the data - ensure that you at least use the required technique\n",
    "#Dealing with Missing Data\n",
    "bne_mean = Brisbane_3Data[\"Rainfall amount (millimetres)\"].mean()\n",
    "Brisbane_3Data[\"Brisbane_Mean\"] = Brisbane_3Data[\"Rainfall amount (millimetres)\"].fillna(bne_mean)\n",
    "\n",
    "adel_mean = Adelaide_3Data[\"Rainfall amount (millimetres)\"].mean()\n",
    "Adelaide_3Data[\"Adelaide_Mean\"] = Adelaide_3Data[\"Rainfall amount (millimetres)\"].fillna(adel_mean)\n",
    "Brisbane_3Data"
   ]
  },
  {
   "cell_type": "markdown",
   "metadata": {},
   "source": [
    "Based on the result from the test part, I choose to use this mean function to make up for missing data. I chose this function because I wanted to minimise the difference between missing data and valid data. So the following data analysis and visualisation can proceed smoothly without disrupting the accuracy of the conclusions due to missing data."
   ]
  },
  {
   "cell_type": "code",
   "execution_count": null,
   "metadata": {},
   "outputs": [
    {
     "name": "stdout",
     "output_type": "stream",
     "text": [
      "The total rainfall amount in Brisbane for the last 3 years is 3157.7984962406017 millimetres. And the total rainfall amount in Adelaide for the last 3 year is 1333.3657458563534 millimetres.\n"
     ]
    }
   ],
   "source": [
    "#Get the total rainfall amount in Brisbane and Adelaide for the last 3 years\n",
    "bne3_Yaverage = Brisbane_3Data[\"Brisbane_Mean\"].sum()\n",
    "adel3_Yaverage = Adelaide_3Data[\"Adelaide_Mean\"].sum()\n",
    "\n",
    "print('The total rainfall amount in Brisbane for the last 3 years is ' + str(bne3_Yaverage) + ' millimetres'+'.' + ' And the total rainfall amount in Adelaide for the last 3 year is ' + str(adel3_Yaverage) + ' millimetres'+'.')"
   ]
  },
  {
   "cell_type": "code",
   "execution_count": null,
   "metadata": {},
   "outputs": [
    {
     "data": {
      "text/plain": [
       "87.71662489557227"
      ]
     },
     "execution_count": 48,
     "metadata": {},
     "output_type": "execute_result"
    }
   ],
   "source": [
    "#Get the monthly average rainfall amount in Brisbane and Adelaide for the last 3 years\n",
    "bne3_Maverage = Brisbane_3Data[\"Brisbane_Mean\"].sum()/(12*3)\n",
    "adel3_Maverage = Adelaide_3Data[\"Adelaide_Mean\"].sum()/(12*3)\n",
    "bne3_Maverage"
   ]
  },
  {
   "cell_type": "code",
   "execution_count": null,
   "metadata": {},
   "outputs": [
    {
     "data": {
      "text/plain": [
       "Year  Month\n",
       "2019  1        False\n",
       "      2        False\n",
       "      3         True\n",
       "      4        False\n",
       "      5        False\n",
       "      6        False\n",
       "      7        False\n",
       "      8        False\n",
       "      9        False\n",
       "      10       False\n",
       "      11       False\n",
       "      12        True\n",
       "2020  1         True\n",
       "      2         True\n",
       "      3        False\n",
       "      4        False\n",
       "      5        False\n",
       "      6        False\n",
       "      7        False\n",
       "      8        False\n",
       "      9        False\n",
       "      10        True\n",
       "      11       False\n",
       "      12        True\n",
       "2021  1        False\n",
       "      2         True\n",
       "      3         True\n",
       "      4         True\n",
       "      5         True\n",
       "      6        False\n",
       "      7        False\n",
       "      8        False\n",
       "      9        False\n",
       "      10        True\n",
       "      11        True\n",
       "      12        True\n",
       "Name: Brisbane_Mean, dtype: bool"
      ]
     },
     "execution_count": 49,
     "metadata": {},
     "output_type": "execute_result"
    }
   ],
   "source": [
    "#List the Year, Month and Brisbane_Mean in Brisbane for the last 3 years and compare them with the monthly average rainfall amount for the last 3 years\n",
    "#Get the data information of these to have higher rainfall amounts than the monthly average rainfall amount\n",
    "bne3_EMaverage = Brisbane_3Data.groupby([\"Year\", \"Month\"])[\"Brisbane_Mean\"].sum() > bne3_Maverage\n",
    "bne3_EMaverage"
   ]
  },
  {
   "cell_type": "code",
   "execution_count": null,
   "metadata": {},
   "outputs": [
    {
     "data": {
      "text/plain": [
       "Year  Month\n",
       "2019  1        False\n",
       "      2        False\n",
       "      3        False\n",
       "      4        False\n",
       "      5         True\n",
       "      6         True\n",
       "      7         True\n",
       "      8         True\n",
       "      9         True\n",
       "      10       False\n",
       "      11       False\n",
       "      12       False\n",
       "2020  1        False\n",
       "      2        False\n",
       "      3        False\n",
       "      4         True\n",
       "      5         True\n",
       "      6         True\n",
       "      7        False\n",
       "      8        False\n",
       "      9         True\n",
       "      10        True\n",
       "      11       False\n",
       "      12       False\n",
       "2021  1        False\n",
       "      2        False\n",
       "      3        False\n",
       "      4        False\n",
       "      5         True\n",
       "      6         True\n",
       "      7         True\n",
       "      8         True\n",
       "      9        False\n",
       "      10        True\n",
       "      11       False\n",
       "      12       False\n",
       "Name: Adelaide_Mean, dtype: bool"
      ]
     },
     "execution_count": 50,
     "metadata": {},
     "output_type": "execute_result"
    }
   ],
   "source": [
    "#List the Year, Month and Adelaide_Mean in Adelaide for the last 3 years and compare them with the monthly average rainfall amount for the last 3 years\n",
    "#Get the data information of these to have higher rainfall amounts than the monthly average rainfall amount\n",
    "adel3_EMaverage = Adelaide_3Data.groupby([\"Year\", \"Month\"])[\"Adelaide_Mean\"].sum() > adel3_Maverage\n",
    "adel3_EMaverage"
   ]
  },
  {
   "cell_type": "markdown",
   "metadata": {},
   "source": [
    "In this part of the data analysis, my idea is to visually distinguish the data for each year and month and compare it with the average data. I hope that this part can finally draw an obvious conclusion and compare the data of other months. So I decide to use the groupby function because it distinguishes the data I need from true and false. The result is evident to the audience."
   ]
  },
  {
   "cell_type": "code",
   "execution_count": null,
   "metadata": {},
   "outputs": [],
   "source": [
    "#List the information for each of the past three years separately\n",
    "bne2019 = Brisbane_3Data.loc[(Brisbane_3Data[\"Year\"]==2019)]\n",
    "bne2020 = Brisbane_3Data.loc[(Brisbane_3Data[\"Year\"]==2020)]\n",
    "bne2021 = Brisbane_3Data.loc[(Brisbane_3Data[\"Year\"]==2021)]"
   ]
  },
  {
   "cell_type": "code",
   "execution_count": null,
   "metadata": {},
   "outputs": [],
   "source": [
    "#List the information for each of the past three years separately\n",
    "adel2019 = Adelaide_3Data.loc[(Adelaide_3Data[\"Year\"]==2019)]\n",
    "adel2020 = Adelaide_3Data.loc[(Adelaide_3Data[\"Year\"]==2020)]\n",
    "adel2021 = Adelaide_3Data.loc[(Adelaide_3Data[\"Year\"]==2021)]"
   ]
  },
  {
   "cell_type": "markdown",
   "metadata": {},
   "source": [
    "I hope to distinguish the data for each month of each year and compare them separately. So I choose to define the data for each year separately."
   ]
  },
  {
   "cell_type": "code",
   "execution_count": null,
   "metadata": {},
   "outputs": [],
   "source": [
    "#Get the mean data and their sum value for each month of the past three years separately\n",
    "a=bne2019.groupby(\"Month\")[\"Brisbane_Mean\"].sum()\n",
    "b=bne2020.groupby(\"Month\")[\"Brisbane_Mean\"].sum()\n",
    "c=bne2021.groupby(\"Month\")[\"Brisbane_Mean\"].sum()"
   ]
  },
  {
   "cell_type": "code",
   "execution_count": null,
   "metadata": {},
   "outputs": [],
   "source": [
    "#Get the sum mean value of Jan, Feb, Mar, Oct, Nov and Dec for each year of the past three years separately\n",
    "sp= [1,2,3,10,11,12]\n",
    "bne_sp2019=[a[i] for i in sp]\n",
    "bne_sp2020=[b[i] for i in sp]\n",
    "bne_sp2021=[c[i] for i in sp]"
   ]
  },
  {
   "cell_type": "markdown",
   "metadata": {},
   "source": [
    "I want to extract the data for the significant periods of time of each year separately and perpare for the visualisaion. "
   ]
  },
  {
   "cell_type": "code",
   "execution_count": null,
   "metadata": {},
   "outputs": [],
   "source": [
    "#Get the mean data and their sum value for each month of the past three years separately\n",
    "d=adel2019.groupby(\"Month\")[\"Adelaide_Mean\"].sum()\n",
    "e=adel2020.groupby(\"Month\")[\"Adelaide_Mean\"].sum()\n",
    "f=adel2021.groupby(\"Month\")[\"Adelaide_Mean\"].sum()"
   ]
  },
  {
   "cell_type": "code",
   "execution_count": null,
   "metadata": {},
   "outputs": [],
   "source": [
    "#Get the sum mean value of Jan, Feb, Mar, Oct, Nov and Dec for each year of the past three years separately\n",
    "adel_sp2019=[d[i] for i in sp]\n",
    "adel_sp2020=[e[i] for i in sp]\n",
    "adel_sp2021=[f[i] for i in sp]"
   ]
  },
  {
   "cell_type": "markdown",
   "metadata": {},
   "source": [
    "### 1.4 Visualisation"
   ]
  },
  {
   "cell_type": "code",
   "execution_count": null,
   "metadata": {},
   "outputs": [
    {
     "data": {
      "image/png": "[encoded data removed]",
      "text/plain": [
       "<Figure size 432x288 with 1 Axes>"
      ]
     },
     "metadata": {
      "needs_background": "light"
     },
     "output_type": "display_data"
    }
   ],
   "source": [
    "# Visualise the results\n",
    "# MAKE A PLOT\n",
    "fig = plt.figure()\n",
    "ax = fig.add_axes([0,0,1,1])\n",
    "x = ['Brisbane', 'Adelaide']\n",
    "y = [bne3_Yaverage, adel3_Yaverage]\n",
    "plt.title('Q1 Total rainfall amount in Brisbane and Adelaide over the past 3 years(millimetres)')\n",
    "ax.bar(x, y, color='#7B68EE')\n",
    "plt.show()"
   ]
  },
  {
   "cell_type": "markdown",
   "metadata": {},
   "source": [
    "I chose to use a histogram because this graph shows the amount of rainfall more clearly. In this case, comparing the rain in the two cities looks pretty intuitive."
   ]
  },
  {
   "cell_type": "code",
   "execution_count": null,
   "metadata": {},
   "outputs": [
    {
     "data": {
      "image/png": "[encoded data removed]",
      "text/plain": [
       "<Figure size 432x288 with 1 Axes>"
      ]
     },
     "metadata": {
      "needs_background": "light"
     },
     "output_type": "display_data"
    }
   ],
   "source": [
    "plt.plot(a, label='2019', color='#B0E0E6')\n",
    "plt.plot(b, label='2020', color='#7B68EE')\n",
    "plt.plot(c, label='2021', color='#483D8B')\n",
    "        \n",
    "plt.ylabel('Rainfall amount (millimetres)')\n",
    "plt.xlabel('Month')\n",
    "plt.title('Q2 Higher rainfall months than average monthly rainfall the in Brisbane over the past 3 years')\n",
    "plt.legend(bbox_to_anchor=(1.1, 1.05))\n",
    "plt.axhline(y=87.71662489557227, c='blue', ls='--', lw=3)\n",
    "plt.show()"
   ]
  },
  {
   "cell_type": "markdown",
   "metadata": {},
   "source": [
    "This section uses the dashed axhline line as the standard for comparing monthly average rainfall and monthly total rainfall. It can directly reflect the judgment of data analysis that exceeds the monthly total precipitation and exceeds the monthly average rainfall."
   ]
  },
  {
   "cell_type": "code",
   "execution_count": null,
   "metadata": {},
   "outputs": [
    {
     "data": {
      "image/png": "[encoded data removed]",
      "text/plain": [
       "<Figure size 432x288 with 1 Axes>"
      ]
     },
     "metadata": {
      "needs_background": "light"
     },
     "output_type": "display_data"
    }
   ],
   "source": [
    "plt.plot(bne_sp2019, label='bne_2019', color='#B0E0E6')\n",
    "plt.plot(bne_sp2020, label='bne_2020', color='#7B68EE')\n",
    "plt.plot(bne_sp2021, label='bne_2021', color='#483D8B')\n",
    "plt.plot(adel_sp2019, label='adel_2019')\n",
    "plt.plot(adel_sp2020, label='adel_2020')\n",
    "plt.plot(adel_sp2021, label='adel_2021')\n",
    "        \n",
    "plt.ylabel('Rainfall amount (millimetres)')\n",
    "plt.xlabel('Month')\n",
    "plt.title('Q3 Rainfall in BNE VS ADEL (Jan, Feb, Mar, Oct, Nov, Dec)')\n",
    "plt.legend(bbox_to_anchor=(1.1, 1.05))\n",
    "plt.show()"
   ]
  },
  {
   "cell_type": "code",
   "execution_count": null,
   "metadata": {},
   "outputs": [
    {
     "data": {
      "image/png": "[encoded data removed]",
      "text/plain": [
       "<Figure size 432x288 with 1 Axes>"
      ]
     },
     "metadata": {
      "needs_background": "light"
     },
     "output_type": "display_data"
    }
   ],
   "source": [
    "g=Brisbane_3Data.groupby(\"Month\")[\"Brisbane_Mean\"].sum() #The sum of each monthly rainfall in Brisbane for the past three years\n",
    "h=Adelaide_3Data.groupby(\"Month\")[\"Adelaide_Mean\"].sum() #The sum of each monthly rainfall in Adelaide for the past three years\n",
    "\n",
    "plt.plot(g, label='Brisbane', color='#B0E0E6')\n",
    "plt.plot(h, label='Adelaide', color='#7B68EE')\n",
    "\n",
    "        \n",
    "plt.ylabel('Rainfall amount (millimetres)')\n",
    "plt.xlabel('Month')\n",
    "plt.title('BNE VS ADEL Monthly Rainfall amount (millimetres) during the last 3 years')\n",
    "plt.legend(bbox_to_anchor=(1.1, 1.05))\n",
    "plt.show()"
   ]
  },
  {
   "cell_type": "markdown",
   "metadata": {},
   "source": [
    "### 1.5 Insight"
   ]
  },
  {
   "cell_type": "markdown",
   "metadata": {},
   "source": [
    "*## Your insights from the analysis. Ensure that you address the question ##*\n",
    "\n",
    "- **Q1: What city should this international umbrella company starts their business in and help them succeed?**\n",
    "**Answer&Insight**：The total rainfall amount in Brisbane for the last 3 year is 3157.7984962406017 millimetres. And the total rainfall amount in Adelaide for the last 3 year is 1333.3657458563534 millimetres. \n",
    "\n",
    "From this dataset's data analysis and visualisation, we can see the difference between these two cities. The total rainfall amount in Brisbane significantly exceeds the total rainfall amount in Adelaide. \n",
    "\n",
    "It means the international umbrella company management should choose Brisbane as the starting point for their new business. Obviously, because of the abundant rainfall in Brisbane, there is also a higher demand for umbrellas from users.\n",
    "\n",
    "- **Q2：In which months should this International Umbrella's product inventory adjustments be made?**\n",
    "**Answer&Insight**：According to the results and analysis of question 2, I selected the total monthly rainfall of these two cities in the past three years. I compared it with the monthly average rainfall of their cities over the past three years. \n",
    "\n",
    "I found that the rainfall from October to March in Brisbane every year in the last 3 years has always been more than the monthly rainfall amount in the past three years. We can see this in the visualisation chart because the rainfall in these months is significantly higher than my preset monthly average rainfall line. \n",
    "\n",
    "Therefore, I chose to divide the significant periods of time during the last 3 years in Brisbane into October to March each year. It means the international umbrella company management should increase their umbrella stock in Brisbane during these months as these months will be the most in-demand for umbrellas.\n",
    "\n",
    "- **Q3：How can this International Umbrella Company develop its business in these two cities to maximise its profits?**\n",
    "**Answer&Insight**：Based on the conclusions drawn from the previous question, I have extracted Brisbane and Adelaide rainfall data from January to March and October to December for the last three years and intend to compare them on visualisation. In the chart, we can see the difference in rainfall between Brisbane and Adelaide, and this is not obvious in the data analysis because we can only see the numbers. \n",
    "\n",
    "According to the visualisation and analysis of the average monthly rainfall for Brisbane and Adelaide over the past three years, I think this international umbrella company might consider selling sun umbrellas in Adelaide online or on other channels simultaneously as Brisbane. Because Adelaide's average monthly rainfall over the past three years has not been high, the city has plenty of sunshine, which is a must for selling sun umbrellas. \n",
    "\n",
    "In addition, this international umbrella company can start to sell rain umbrellas in Adelaide in May because that is when the rainy season ends in Brisbane, but the rainy season starts in Adelaide. At the same time, they can sell sun umbrellas in Brisbane because we get plenty of sunshine back in this city.\n"
   ]
  },
  {
   "cell_type": "markdown",
   "metadata": {
    "tags": []
   },
   "source": [
    "---\n",
    "## QUESTION 2\n",
    "\n",
    "#### Question: \n",
    "Using *The Guardian* API, compare Australian and United Kingdom headlines about the war in Ukraine. What can we learn about differences and similarities between the news presented to Australia and the UK?\n",
    "\n",
    "#### Data:\n",
    "[The Guardian OpenPlatform](https://open-platform.theguardian.com/access/)\n"
   ]
  },
  {
   "cell_type": "code",
   "execution_count": null,
   "metadata": {},
   "outputs": [],
   "source": [
    "# import libraries for this question here\n",
    "import pandas as pd \n",
    "import numpy as np\n",
    "import json\n",
    "import requests\n",
    "import matplotlib.pyplot as plt"
   ]
  },
  {
   "cell_type": "markdown",
   "metadata": {},
   "source": [
    "### 2.1 Question"
   ]
  },
  {
   "cell_type": "markdown",
   "metadata": {},
   "source": [
    "*## Your interpretation of the question here ##*\n",
    "\n",
    "> **CONCERN:** A Ukrainian company wants to compare Australian and the United Kingdom headlines about the war in Ukraine to gauge the attitudes of the Australian and the United Kingdom media about the war in Ukraine and hoped to use this as a criterion to determine which country they will go to and start for new business.\n",
    "\n",
    "- **Q1: How are Australia and the United Kingdom headlines treating the Ukraine war？**\n",
    "\n",
    "**Description**：This question focuses on the key messages from the headlines in both countries about the war in Ukraine. This Ukrainian company is very concerned about the two countries' attitudes towards the war itself and how they view the war in Ukraine.\n",
    "\n",
    "- **Q2: What country should this Ukrainian company starts their business in and help them succeed?**\n",
    "\n",
    "**Description**：According to the above concern, the key stakeholders interested in the question should be the management of this Ukrainian company because it can help them start a new business more efficiently. They want to know what is the the similarities and difference between Australia and the UK in the headline focus of the war? This question contains another element that the company values except their attitude toward the war in Ukrainian, which is the sensitivity of the global and economics from their media."
   ]
  },
  {
   "cell_type": "markdown",
   "metadata": {},
   "source": [
    "### 2.2 Data"
   ]
  },
  {
   "cell_type": "code",
   "execution_count": null,
   "metadata": {},
   "outputs": [],
   "source": [
    "# Access the data via API\n",
    "# Clean/prepare the data for analysis"
   ]
  },
  {
   "cell_type": "code",
   "execution_count": null,
   "metadata": {},
   "outputs": [
    {
     "data": {
      "text/plain": [
       "36"
      ]
     },
     "execution_count": 63,
     "metadata": {},
     "output_type": "execute_result"
    }
   ],
   "source": [
    "#load key\n",
    "with open('guardian_key.txt', 'r') as file:\n",
    "    key = file.read().strip()\n",
    "len(key)"
   ]
  },
  {
   "cell_type": "code",
   "execution_count": null,
   "metadata": {},
   "outputs": [
    {
     "name": "stdout",
     "output_type": "stream",
     "text": [
      "https://content.guardianapis.com/search?q=\"Ukraine war\"&production-office=aus&from-date=2022-03-01&a\n"
     ]
    }
   ],
   "source": [
    "#Get results of AU from The Guardian\n",
    "baseUrl = 'https://content.guardianapis.com/search?q='\n",
    "searchString = \"Ukraine war\"\n",
    "production_office = \"aus\"\n",
    "fromDate = \"2022-03-01\"\n",
    "\n",
    "url_au = baseUrl+'\"'+searchString+'\"'+'&production-office='+production_office+'&from-date='+fromDate+'&api-key='+key\n",
    "print(url_au[:100])"
   ]
  },
  {
   "cell_type": "code",
   "execution_count": null,
   "metadata": {},
   "outputs": [
    {
     "name": "stdout",
     "output_type": "stream",
     "text": [
      "https://content.guardianapis.com/search?q=\"Ukraine war\"&production-office=uk&from-date=2022-03-01&ap\n"
     ]
    }
   ],
   "source": [
    "#Get results of UK from The Guardian\n",
    "baseUrl = 'https://content.guardianapis.com/search?q='\n",
    "searchString = \"Ukraine war\"\n",
    "production_office = \"uk\"\n",
    "fromDate = \"2022-03-01\"\n",
    "\n",
    "url_uk = baseUrl+'\"'+searchString+'\"'+'&production-office='+production_office+'&from-date='+fromDate+'&api-key='+key\n",
    "print(url_uk[:100])"
   ]
  },
  {
   "cell_type": "code",
   "execution_count": null,
   "metadata": {},
   "outputs": [
    {
     "data": {
      "text/plain": [
       "<Response [200]>"
      ]
     },
     "execution_count": 66,
     "metadata": {},
     "output_type": "execute_result"
    }
   ],
   "source": [
    "# get au data from server and check if it works\n",
    "response_au = requests.get(url_au)\n",
    "response_au"
   ]
  },
  {
   "cell_type": "code",
   "execution_count": null,
   "metadata": {},
   "outputs": [
    {
     "data": {
      "text/plain": [
       "<Response [200]>"
      ]
     },
     "execution_count": 67,
     "metadata": {},
     "output_type": "execute_result"
    }
   ],
   "source": [
    "# get uk data from server and check if it works\n",
    "response_uk = requests.get(url_uk)\n",
    "response_uk"
   ]
  },
  {
   "cell_type": "code",
   "execution_count": null,
   "metadata": {},
   "outputs": [
    {
     "data": {
      "text/plain": [
       "{'response': {'status': 'ok',\n",
       "  'userTier': 'developer',\n",
       "  'total': 139,\n",
       "  'startIndex': 1,\n",
       "  'pageSize': 10,\n",
       "  'currentPage': 1,\n",
       "  'pages': 14,\n",
       "  'orderBy': 'relevance',\n",
       "  'results': [{'id': 'world/2022/apr/22/russia-ukraine-war-what-we-know-on-day-58-of-the-invasion',\n",
       "    'type': 'article',\n",
       "    'sectionId': 'world',\n",
       "    'sectionName': 'World news',\n",
       "    'webPublicationDate': '2022-04-22T16:51:23Z',\n",
       "    'webTitle': 'Russia-Ukraine war: what we know on day 58 of the invasion',\n",
       "    'webUrl': 'https://www.theguardian.com/world/2022/apr/22/russia-ukraine-war-what-we-know-on-day-58-of-the-invasion',\n",
       "    'apiUrl': 'https://content.guardianapis.com/world/2022/apr/22/russia-ukraine-war-what-we-know-on-day-58-of-the-invasion',\n",
       "    'isHosted': False,\n",
       "    'pillarId': 'pillar/news',\n",
       "    'pillarName': 'News'},\n",
       "   {'id': 'world/2022/apr/21/russia-ukraine-war-what-we-know-on-day-57-of-the-invasion',\n",
       "    'type': 'article',\n",
       "    'sectionId': 'world',\n",
       "    'sectionName': 'World news',\n",
       "    'webPublicationDate': '2022-04-21T16:15:21Z',\n",
       "    'webTitle': 'Russia-Ukraine war: what we know on day 57 of the invasion',\n",
       "    'webUrl': 'https://www.theguardian.com/world/2022/apr/21/russia-ukraine-war-what-we-know-on-day-57-of-the-invasion',\n",
       "    'apiUrl': 'https://content.guardianapis.com/world/2022/apr/21/russia-ukraine-war-what-we-know-on-day-57-of-the-invasion',\n",
       "    'isHosted': False,\n",
       "    'pillarId': 'pillar/news',\n",
       "    'pillarName': 'News'},\n",
       "   {'id': 'world/2022/apr/18/russia-ukraine-war-what-we-know-on-day-54-of-the-invasion',\n",
       "    'type': 'article',\n",
       "    'sectionId': 'world',\n",
       "    'sectionName': 'World news',\n",
       "    'webPublicationDate': '2022-04-18T00:55:40Z',\n",
       "    'webTitle': 'Russia-Ukraine war: what we know on day 54 of the invasion',\n",
       "    'webUrl': 'https://www.theguardian.com/world/2022/apr/18/russia-ukraine-war-what-we-know-on-day-54-of-the-invasion',\n",
       "    'apiUrl': 'https://content.guardianapis.com/world/2022/apr/18/russia-ukraine-war-what-we-know-on-day-54-of-the-invasion',\n",
       "    'isHosted': False,\n",
       "    'pillarId': 'pillar/news',\n",
       "    'pillarName': 'News'},\n",
       "   {'id': 'world/2022/apr/16/russia-ukraine-war-what-we-know-on-day-52-of-the-invasion',\n",
       "    'type': 'article',\n",
       "    'sectionId': 'world',\n",
       "    'sectionName': 'World news',\n",
       "    'webPublicationDate': '2022-04-16T00:46:19Z',\n",
       "    'webTitle': 'Russia-Ukraine war: what we know on day 52 of the invasion',\n",
       "    'webUrl': 'https://www.theguardian.com/world/2022/apr/16/russia-ukraine-war-what-we-know-on-day-52-of-the-invasion',\n",
       "    'apiUrl': 'https://content.guardianapis.com/world/2022/apr/16/russia-ukraine-war-what-we-know-on-day-52-of-the-invasion',\n",
       "    'isHosted': False,\n",
       "    'pillarId': 'pillar/news',\n",
       "    'pillarName': 'News'},\n",
       "   {'id': 'world/2022/apr/11/russia-ukraine-war-what-we-know-on-day-47-of-the-invasion',\n",
       "    'type': 'article',\n",
       "    'sectionId': 'world',\n",
       "    'sectionName': 'World news',\n",
       "    'webPublicationDate': '2022-04-11T17:14:02Z',\n",
       "    'webTitle': 'Russia-Ukraine war: what we know on day 47 of the invasion',\n",
       "    'webUrl': 'https://www.theguardian.com/world/2022/apr/11/russia-ukraine-war-what-we-know-on-day-47-of-the-invasion',\n",
       "    'apiUrl': 'https://content.guardianapis.com/world/2022/apr/11/russia-ukraine-war-what-we-know-on-day-47-of-the-invasion',\n",
       "    'isHosted': False,\n",
       "    'pillarId': 'pillar/news',\n",
       "    'pillarName': 'News'},\n",
       "   {'id': 'world/2022/apr/10/russia-ukraine-war-what-we-know-on-day-46-of-the-invasion',\n",
       "    'type': 'article',\n",
       "    'sectionId': 'world',\n",
       "    'sectionName': 'World news',\n",
       "    'webPublicationDate': '2022-04-10T13:11:29Z',\n",
       "    'webTitle': 'Russia-Ukraine war: what we know on day 46 of the invasion',\n",
       "    'webUrl': 'https://www.theguardian.com/world/2022/apr/10/russia-ukraine-war-what-we-know-on-day-46-of-the-invasion',\n",
       "    'apiUrl': 'https://content.guardianapis.com/world/2022/apr/10/russia-ukraine-war-what-we-know-on-day-46-of-the-invasion',\n",
       "    'isHosted': False,\n",
       "    'pillarId': 'pillar/news',\n",
       "    'pillarName': 'News'},\n",
       "   {'id': 'world/2022/apr/14/russia-ukraine-war-what-we-know-on-day-50-of-the-invasion',\n",
       "    'type': 'article',\n",
       "    'sectionId': 'world',\n",
       "    'sectionName': 'World news',\n",
       "    'webPublicationDate': '2022-04-14T00:40:14Z',\n",
       "    'webTitle': 'Russia-Ukraine war: what we know on day 50 of the invasion',\n",
       "    'webUrl': 'https://www.theguardian.com/world/2022/apr/14/russia-ukraine-war-what-we-know-on-day-50-of-the-invasion',\n",
       "    'apiUrl': 'https://content.guardianapis.com/world/2022/apr/14/russia-ukraine-war-what-we-know-on-day-50-of-the-invasion',\n",
       "    'isHosted': False,\n",
       "    'pillarId': 'pillar/news',\n",
       "    'pillarName': 'News'},\n",
       "   {'id': 'world/2022/apr/13/russia-ukraine-war-what-we-know-on-day-49-of-the-invasion',\n",
       "    'type': 'article',\n",
       "    'sectionId': 'world',\n",
       "    'sectionName': 'World news',\n",
       "    'webPublicationDate': '2022-04-13T16:12:08Z',\n",
       "    'webTitle': 'Russia-Ukraine war: what we know on day 49 of the invasion',\n",
       "    'webUrl': 'https://www.theguardian.com/world/2022/apr/13/russia-ukraine-war-what-we-know-on-day-49-of-the-invasion',\n",
       "    'apiUrl': 'https://content.guardianapis.com/world/2022/apr/13/russia-ukraine-war-what-we-know-on-day-49-of-the-invasion',\n",
       "    'isHosted': False,\n",
       "    'pillarId': 'pillar/news',\n",
       "    'pillarName': 'News'},\n",
       "   {'id': 'world/2022/apr/12/russia-ukraine-war-what-we-know-on-day-48-of-the-invasion',\n",
       "    'type': 'article',\n",
       "    'sectionId': 'world',\n",
       "    'sectionName': 'World news',\n",
       "    'webPublicationDate': '2022-04-12T12:38:13Z',\n",
       "    'webTitle': 'Russia-Ukraine war: what we know on day 48 of the invasion',\n",
       "    'webUrl': 'https://www.theguardian.com/world/2022/apr/12/russia-ukraine-war-what-we-know-on-day-48-of-the-invasion',\n",
       "    'apiUrl': 'https://content.guardianapis.com/world/2022/apr/12/russia-ukraine-war-what-we-know-on-day-48-of-the-invasion',\n",
       "    'isHosted': False,\n",
       "    'pillarId': 'pillar/news',\n",
       "    'pillarName': 'News'},\n",
       "   {'id': 'australia-news/live/2022/mar/20/australia-live-news-updates-landslide-win-for-labor-in-south-australia-election-with-steven-marshalls-seat-in-danger-peter-malinauskas-covid-greens-liberal-party-colaition-scott-morrison',\n",
       "    'type': 'liveblog',\n",
       "    'sectionId': 'australia-news',\n",
       "    'sectionName': 'Australia news',\n",
       "    'webPublicationDate': '2022-03-20T06:31:32Z',\n",
       "    'webTitle': 'Payne calls Russia’s actions in Ukraine ‘war crimes’ – as it happened',\n",
       "    'webUrl': 'https://www.theguardian.com/australia-news/live/2022/mar/20/australia-live-news-updates-landslide-win-for-labor-in-south-australia-election-with-steven-marshalls-seat-in-danger-peter-malinauskas-covid-greens-liberal-party-colaition-scott-morrison',\n",
       "    'apiUrl': 'https://content.guardianapis.com/australia-news/live/2022/mar/20/australia-live-news-updates-landslide-win-for-labor-in-south-australia-election-with-steven-marshalls-seat-in-danger-peter-malinauskas-covid-greens-liberal-party-colaition-scott-morrison',\n",
       "    'isHosted': False,\n",
       "    'pillarId': 'pillar/news',\n",
       "    'pillarName': 'News'}]}}"
      ]
     },
     "execution_count": 68,
     "metadata": {},
     "output_type": "execute_result"
    }
   ],
   "source": [
    "data_au = json.loads(response_au.content)\n",
    "data_au"
   ]
  },
  {
   "cell_type": "code",
   "execution_count": null,
   "metadata": {},
   "outputs": [
    {
     "data": {
      "text/plain": [
       "{'response': {'status': 'ok',\n",
       "  'userTier': 'developer',\n",
       "  'total': 874,\n",
       "  'startIndex': 1,\n",
       "  'pageSize': 10,\n",
       "  'currentPage': 1,\n",
       "  'pages': 88,\n",
       "  'orderBy': 'relevance',\n",
       "  'results': [{'id': 'business/2022/apr/19/imf-cuts-global-growth-forecast-over-ukraine-war',\n",
       "    'type': 'article',\n",
       "    'sectionId': 'business',\n",
       "    'sectionName': 'Business',\n",
       "    'webPublicationDate': '2022-04-19T13:12:22Z',\n",
       "    'webTitle': 'IMF cuts global growth forecast over Ukraine war',\n",
       "    'webUrl': 'https://www.theguardian.com/business/2022/apr/19/imf-cuts-global-growth-forecast-over-ukraine-war',\n",
       "    'apiUrl': 'https://content.guardianapis.com/business/2022/apr/19/imf-cuts-global-growth-forecast-over-ukraine-war',\n",
       "    'isHosted': False,\n",
       "    'pillarId': 'pillar/news',\n",
       "    'pillarName': 'News'},\n",
       "   {'id': 'world/2022/apr/11/austrian-chancellor-to-tell-putin-he-has-lost-the-war-morally',\n",
       "    'type': 'article',\n",
       "    'sectionId': 'world',\n",
       "    'sectionName': 'World news',\n",
       "    'webPublicationDate': '2022-04-11T22:09:03Z',\n",
       "    'webTitle': 'Austrian chancellor confronts Putin over Ukraine war crimes',\n",
       "    'webUrl': 'https://www.theguardian.com/world/2022/apr/11/austrian-chancellor-to-tell-putin-he-has-lost-the-war-morally',\n",
       "    'apiUrl': 'https://content.guardianapis.com/world/2022/apr/11/austrian-chancellor-to-tell-putin-he-has-lost-the-war-morally',\n",
       "    'isHosted': False,\n",
       "    'pillarId': 'pillar/news',\n",
       "    'pillarName': 'News'},\n",
       "   {'id': 'world/2022/mar/27/un-refugee-agency-accused-over-response-to-ukraine-war',\n",
       "    'type': 'article',\n",
       "    'sectionId': 'world',\n",
       "    'sectionName': 'World news',\n",
       "    'webPublicationDate': '2022-03-27T13:58:55Z',\n",
       "    'webTitle': 'UN refugee agency criticised over response to Ukraine war',\n",
       "    'webUrl': 'https://www.theguardian.com/world/2022/mar/27/un-refugee-agency-accused-over-response-to-ukraine-war',\n",
       "    'apiUrl': 'https://content.guardianapis.com/world/2022/mar/27/un-refugee-agency-accused-over-response-to-ukraine-war',\n",
       "    'isHosted': False,\n",
       "    'pillarId': 'pillar/news',\n",
       "    'pillarName': 'News'},\n",
       "   {'id': 'world/2022/apr/22/how-finland-bunker-mania-made-sense',\n",
       "    'type': 'article',\n",
       "    'sectionId': 'world',\n",
       "    'sectionName': 'World news',\n",
       "    'webPublicationDate': '2022-04-22T15:04:01Z',\n",
       "    'webTitle': 'Ukraine war puts new focus on Finland’s network of bunkers',\n",
       "    'webUrl': 'https://www.theguardian.com/world/2022/apr/22/how-finland-bunker-mania-made-sense',\n",
       "    'apiUrl': 'https://content.guardianapis.com/world/2022/apr/22/how-finland-bunker-mania-made-sense',\n",
       "    'isHosted': False,\n",
       "    'pillarId': 'pillar/news',\n",
       "    'pillarName': 'News'},\n",
       "   {'id': 'environment/2022/mar/21/ukraine-war-threatens-global-heating-goals-warns-un-chief',\n",
       "    'type': 'article',\n",
       "    'sectionId': 'environment',\n",
       "    'sectionName': 'Environment',\n",
       "    'webPublicationDate': '2022-03-21T09:30:21Z',\n",
       "    'webTitle': 'Ukraine war threatens global heating goals, warns UN chief',\n",
       "    'webUrl': 'https://www.theguardian.com/environment/2022/mar/21/ukraine-war-threatens-global-heating-goals-warns-un-chief',\n",
       "    'apiUrl': 'https://content.guardianapis.com/environment/2022/mar/21/ukraine-war-threatens-global-heating-goals-warns-un-chief',\n",
       "    'isHosted': False,\n",
       "    'pillarId': 'pillar/news',\n",
       "    'pillarName': 'News'},\n",
       "   {'id': 'environment/2022/mar/18/could-ukraine-war-help-end-wests-reliance-on-hydrocarbons',\n",
       "    'type': 'article',\n",
       "    'sectionId': 'environment',\n",
       "    'sectionName': 'Environment',\n",
       "    'webPublicationDate': '2022-03-18T10:53:42Z',\n",
       "    'webTitle': 'Could Ukraine war help end west’s reliance on hydrocarbons?',\n",
       "    'webUrl': 'https://www.theguardian.com/environment/2022/mar/18/could-ukraine-war-help-end-wests-reliance-on-hydrocarbons',\n",
       "    'apiUrl': 'https://content.guardianapis.com/environment/2022/mar/18/could-ukraine-war-help-end-wests-reliance-on-hydrocarbons',\n",
       "    'isHosted': False,\n",
       "    'pillarId': 'pillar/news',\n",
       "    'pillarName': 'News'},\n",
       "   {'id': 'world/2022/mar/11/russia-ukraine-war-numbers-casualties-refugees-aid',\n",
       "    'type': 'article',\n",
       "    'sectionId': 'world',\n",
       "    'sectionName': 'World news',\n",
       "    'webPublicationDate': '2022-03-11T14:11:03Z',\n",
       "    'webTitle': 'Russia-Ukraine war in numbers: casualties, refugees and aid',\n",
       "    'webUrl': 'https://www.theguardian.com/world/2022/mar/11/russia-ukraine-war-numbers-casualties-refugees-aid',\n",
       "    'apiUrl': 'https://content.guardianapis.com/world/2022/mar/11/russia-ukraine-war-numbers-casualties-refugees-aid',\n",
       "    'isHosted': False,\n",
       "    'pillarId': 'pillar/news',\n",
       "    'pillarName': 'News'},\n",
       "   {'id': 'world/2022/mar/11/poet-laureate-simon-armitage-writes-ukraine-war-poem-resistance',\n",
       "    'type': 'article',\n",
       "    'sectionId': 'world',\n",
       "    'sectionName': 'World news',\n",
       "    'webPublicationDate': '2022-03-11T10:21:57Z',\n",
       "    'webTitle': 'Poet laureate Simon Armitage writes Ukraine war poem Resistance',\n",
       "    'webUrl': 'https://www.theguardian.com/world/2022/mar/11/poet-laureate-simon-armitage-writes-ukraine-war-poem-resistance',\n",
       "    'apiUrl': 'https://content.guardianapis.com/world/2022/mar/11/poet-laureate-simon-armitage-writes-ukraine-war-poem-resistance',\n",
       "    'isHosted': False,\n",
       "    'pillarId': 'pillar/news',\n",
       "    'pillarName': 'News'},\n",
       "   {'id': 'business/2022/mar/28/hsbc-ukraine-war-reports-bank-russia',\n",
       "    'type': 'article',\n",
       "    'sectionId': 'business',\n",
       "    'sectionName': 'Business',\n",
       "    'webPublicationDate': '2022-03-28T09:29:14Z',\n",
       "    'webTitle': 'HSBC cuts references to Ukraine ‘war’ from its analyst reports',\n",
       "    'webUrl': 'https://www.theguardian.com/business/2022/mar/28/hsbc-ukraine-war-reports-bank-russia',\n",
       "    'apiUrl': 'https://content.guardianapis.com/business/2022/mar/28/hsbc-ukraine-war-reports-bank-russia',\n",
       "    'isHosted': False,\n",
       "    'pillarId': 'pillar/news',\n",
       "    'pillarName': 'News'},\n",
       "   {'id': 'world/2022/mar/03/russia-ukraine-war-russian-invasion-news-what-we-know-so-far-on-day-seven',\n",
       "    'type': 'article',\n",
       "    'sectionId': 'world',\n",
       "    'sectionName': 'World news',\n",
       "    'webPublicationDate': '2022-03-03T12:45:33Z',\n",
       "    'webTitle': 'Russia-Ukraine war: what we know on day eight',\n",
       "    'webUrl': 'https://www.theguardian.com/world/2022/mar/03/russia-ukraine-war-russian-invasion-news-what-we-know-so-far-on-day-seven',\n",
       "    'apiUrl': 'https://content.guardianapis.com/world/2022/mar/03/russia-ukraine-war-russian-invasion-news-what-we-know-so-far-on-day-seven',\n",
       "    'isHosted': False,\n",
       "    'pillarId': 'pillar/news',\n",
       "    'pillarName': 'News'}]}}"
      ]
     },
     "execution_count": 69,
     "metadata": {},
     "output_type": "execute_result"
    }
   ],
   "source": [
    "data_uk = json.loads(response_uk.content)\n",
    "data_uk"
   ]
  },
  {
   "cell_type": "code",
   "execution_count": null,
   "metadata": {},
   "outputs": [
    {
     "data": {
      "text/plain": [
       "['Russia-Ukraine war: what we know on day 58 of the invasion',\n",
       " 'Russia-Ukraine war: what we know on day 57 of the invasion',\n",
       " 'Russia-Ukraine war: what we know on day 54 of the invasion',\n",
       " 'Russia-Ukraine war: what we know on day 52 of the invasion',\n",
       " 'Russia-Ukraine war: what we know on day 47 of the invasion',\n",
       " 'Russia-Ukraine war: what we know on day 46 of the invasion',\n",
       " 'Russia-Ukraine war: what we know on day 50 of the invasion',\n",
       " 'Russia-Ukraine war: what we know on day 49 of the invasion',\n",
       " 'Russia-Ukraine war: what we know on day 48 of the invasion',\n",
       " 'Payne calls Russia’s actions in Ukraine ‘war crimes’ – as it happened']"
      ]
     },
     "execution_count": 70,
     "metadata": {},
     "output_type": "execute_result"
    }
   ],
   "source": [
    "results_au = data_au['response']['results']\n",
    "title_au=[]\n",
    "for result in results_au:\n",
    "    title_au.append(result['webTitle'])\n",
    "    \n",
    "title_au"
   ]
  },
  {
   "cell_type": "code",
   "execution_count": null,
   "metadata": {},
   "outputs": [
    {
     "data": {
      "text/plain": [
       "['IMF cuts global growth forecast over Ukraine war',\n",
       " 'Austrian chancellor confronts Putin over Ukraine war crimes',\n",
       " 'UN refugee agency criticised over response to Ukraine war',\n",
       " 'Ukraine war puts new focus on Finland’s network of bunkers',\n",
       " 'Ukraine war threatens global heating goals, warns UN chief',\n",
       " 'Could Ukraine war help end west’s reliance on hydrocarbons?',\n",
       " 'Russia-Ukraine war in numbers: casualties, refugees and aid',\n",
       " 'Poet laureate Simon Armitage writes Ukraine war poem Resistance',\n",
       " 'HSBC cuts references to Ukraine ‘war’ from its analyst reports',\n",
       " 'Russia-Ukraine war: what we know on day eight']"
      ]
     },
     "execution_count": 71,
     "metadata": {},
     "output_type": "execute_result"
    }
   ],
   "source": [
    "results_uk = data_uk['response']['results']\n",
    "title_uk=[]\n",
    "for result in results_uk:\n",
    "    title_uk.append(result['webTitle'])\n",
    "title_uk"
   ]
  },
  {
   "cell_type": "markdown",
   "metadata": {},
   "source": [
    "### 2.3 Analysis"
   ]
  },
  {
   "cell_type": "code",
   "execution_count": null,
   "metadata": {},
   "outputs": [
    {
     "data": {
      "text/plain": [
       "{'46',\n",
       " '47',\n",
       " '48',\n",
       " '49',\n",
       " '50',\n",
       " '52',\n",
       " '54',\n",
       " '57',\n",
       " '58',\n",
       " 'Payne',\n",
       " 'Russia-Ukraine',\n",
       " 'Russia’s',\n",
       " 'Ukraine',\n",
       " 'actions',\n",
       " 'as',\n",
       " 'calls',\n",
       " 'crimes’',\n",
       " 'day',\n",
       " 'happened',\n",
       " 'in',\n",
       " 'invasion',\n",
       " 'it',\n",
       " 'know',\n",
       " 'of',\n",
       " 'on',\n",
       " 'the',\n",
       " 'war:',\n",
       " 'we',\n",
       " 'what',\n",
       " '–',\n",
       " '‘war'}"
      ]
     },
     "execution_count": 72,
     "metadata": {},
     "output_type": "execute_result"
    }
   ],
   "source": [
    "# Analyse the data - ensure that you at least use the required technique\n",
    "#split the list of title_au into string for the following step\n",
    "wordstring_au=title_au[0].split()\n",
    "wordstring_au+=title_au[1].split()\n",
    "wordstring_au+=title_au[2].split()\n",
    "wordstring_au+=title_au[3].split()\n",
    "wordstring_au+=title_au[4].split()\n",
    "wordstring_au+=title_au[5].split()\n",
    "wordstring_au+=title_au[6].split()\n",
    "wordstring_au+=title_au[7].split()\n",
    "wordstring_au+=title_au[8].split()\n",
    "wordstring_au+=title_au[9].split()\n",
    "wordstring_net_au=set(wordstring_au)\n",
    "wordstring_net_au"
   ]
  },
  {
   "cell_type": "markdown",
   "metadata": {},
   "source": [
    "In this part, I need to split each word from the list of title_au into strings. So that I can count the word frequency in the following steps.\n",
    "\n",
    "I'm sure there must be many more techniques in this part that are much more convenient than what I'm using. I chose to use this technique because this is the only technique I tried that can help me get the correct data. I tried def and for loop, but they all output some bugs. "
   ]
  },
  {
   "cell_type": "code",
   "execution_count": null,
   "metadata": {},
   "outputs": [
    {
     "data": {
      "text/html": [
       "<div>\n",
       "<style scoped>\n",
       "    .dataframe tbody tr th:only-of-type {\n",
       "        vertical-align: middle;\n",
       "    }\n",
       "\n",
       "    .dataframe tbody tr th {\n",
       "        vertical-align: top;\n",
       "    }\n",
       "\n",
       "    .dataframe thead th {\n",
       "        text-align: right;\n",
       "    }\n",
       "</style>\n",
       "<table border=\"1\" class=\"dataframe\">\n",
       "  <thead>\n",
       "    <tr style=\"text-align: right;\">\n",
       "      <th></th>\n",
       "      <th>Keyword</th>\n",
       "      <th>Frequencies</th>\n",
       "    </tr>\n",
       "  </thead>\n",
       "  <tbody>\n",
       "    <tr>\n",
       "      <th>0</th>\n",
       "      <td>war:</td>\n",
       "      <td>9</td>\n",
       "    </tr>\n",
       "    <tr>\n",
       "      <th>1</th>\n",
       "      <td>48</td>\n",
       "      <td>1</td>\n",
       "    </tr>\n",
       "    <tr>\n",
       "      <th>2</th>\n",
       "      <td>54</td>\n",
       "      <td>1</td>\n",
       "    </tr>\n",
       "    <tr>\n",
       "      <th>3</th>\n",
       "      <td>Payne</td>\n",
       "      <td>1</td>\n",
       "    </tr>\n",
       "    <tr>\n",
       "      <th>4</th>\n",
       "      <td>50</td>\n",
       "      <td>1</td>\n",
       "    </tr>\n",
       "    <tr>\n",
       "      <th>5</th>\n",
       "      <td>actions</td>\n",
       "      <td>1</td>\n",
       "    </tr>\n",
       "    <tr>\n",
       "      <th>6</th>\n",
       "      <td>Russia-Ukraine</td>\n",
       "      <td>9</td>\n",
       "    </tr>\n",
       "    <tr>\n",
       "      <th>7</th>\n",
       "      <td>the</td>\n",
       "      <td>9</td>\n",
       "    </tr>\n",
       "    <tr>\n",
       "      <th>8</th>\n",
       "      <td>49</td>\n",
       "      <td>1</td>\n",
       "    </tr>\n",
       "    <tr>\n",
       "      <th>9</th>\n",
       "      <td>47</td>\n",
       "      <td>1</td>\n",
       "    </tr>\n",
       "    <tr>\n",
       "      <th>10</th>\n",
       "      <td>we</td>\n",
       "      <td>9</td>\n",
       "    </tr>\n",
       "    <tr>\n",
       "      <th>11</th>\n",
       "      <td>in</td>\n",
       "      <td>1</td>\n",
       "    </tr>\n",
       "    <tr>\n",
       "      <th>12</th>\n",
       "      <td>52</td>\n",
       "      <td>1</td>\n",
       "    </tr>\n",
       "    <tr>\n",
       "      <th>13</th>\n",
       "      <td>–</td>\n",
       "      <td>1</td>\n",
       "    </tr>\n",
       "    <tr>\n",
       "      <th>14</th>\n",
       "      <td>calls</td>\n",
       "      <td>1</td>\n",
       "    </tr>\n",
       "    <tr>\n",
       "      <th>15</th>\n",
       "      <td>know</td>\n",
       "      <td>9</td>\n",
       "    </tr>\n",
       "    <tr>\n",
       "      <th>16</th>\n",
       "      <td>happened</td>\n",
       "      <td>1</td>\n",
       "    </tr>\n",
       "    <tr>\n",
       "      <th>17</th>\n",
       "      <td>invasion</td>\n",
       "      <td>9</td>\n",
       "    </tr>\n",
       "    <tr>\n",
       "      <th>18</th>\n",
       "      <td>Ukraine</td>\n",
       "      <td>1</td>\n",
       "    </tr>\n",
       "    <tr>\n",
       "      <th>19</th>\n",
       "      <td>Russia’s</td>\n",
       "      <td>1</td>\n",
       "    </tr>\n",
       "    <tr>\n",
       "      <th>20</th>\n",
       "      <td>it</td>\n",
       "      <td>1</td>\n",
       "    </tr>\n",
       "    <tr>\n",
       "      <th>21</th>\n",
       "      <td>57</td>\n",
       "      <td>1</td>\n",
       "    </tr>\n",
       "    <tr>\n",
       "      <th>22</th>\n",
       "      <td>‘war</td>\n",
       "      <td>1</td>\n",
       "    </tr>\n",
       "    <tr>\n",
       "      <th>23</th>\n",
       "      <td>46</td>\n",
       "      <td>1</td>\n",
       "    </tr>\n",
       "    <tr>\n",
       "      <th>24</th>\n",
       "      <td>what</td>\n",
       "      <td>9</td>\n",
       "    </tr>\n",
       "    <tr>\n",
       "      <th>25</th>\n",
       "      <td>as</td>\n",
       "      <td>1</td>\n",
       "    </tr>\n",
       "    <tr>\n",
       "      <th>26</th>\n",
       "      <td>day</td>\n",
       "      <td>9</td>\n",
       "    </tr>\n",
       "    <tr>\n",
       "      <th>27</th>\n",
       "      <td>on</td>\n",
       "      <td>9</td>\n",
       "    </tr>\n",
       "    <tr>\n",
       "      <th>28</th>\n",
       "      <td>of</td>\n",
       "      <td>9</td>\n",
       "    </tr>\n",
       "    <tr>\n",
       "      <th>29</th>\n",
       "      <td>58</td>\n",
       "      <td>1</td>\n",
       "    </tr>\n",
       "    <tr>\n",
       "      <th>30</th>\n",
       "      <td>crimes’</td>\n",
       "      <td>1</td>\n",
       "    </tr>\n",
       "  </tbody>\n",
       "</table>\n",
       "</div>"
      ],
      "text/plain": [
       "           Keyword  Frequencies\n",
       "0             war:            9\n",
       "1               48            1\n",
       "2               54            1\n",
       "3            Payne            1\n",
       "4               50            1\n",
       "5          actions            1\n",
       "6   Russia-Ukraine            9\n",
       "7              the            9\n",
       "8               49            1\n",
       "9               47            1\n",
       "10              we            9\n",
       "11              in            1\n",
       "12              52            1\n",
       "13               –            1\n",
       "14           calls            1\n",
       "15            know            9\n",
       "16        happened            1\n",
       "17        invasion            9\n",
       "18         Ukraine            1\n",
       "19        Russia’s            1\n",
       "20              it            1\n",
       "21              57            1\n",
       "22            ‘war            1\n",
       "23              46            1\n",
       "24            what            9\n",
       "25              as            1\n",
       "26             day            9\n",
       "27              on            9\n",
       "28              of            9\n",
       "29              58            1\n",
       "30         crimes’            1"
      ]
     },
     "execution_count": 73,
     "metadata": {},
     "output_type": "execute_result"
    }
   ],
   "source": [
    "#Create new list\n",
    "wordfreq_au = []\n",
    "#Count the frequencies of keywords\n",
    "for w in wordstring_au:\n",
    "    wordfreq_au.append(wordstring_au.count(w))\n",
    "\n",
    "wordlist_au=list(set(zip(wordstring_au, wordfreq_au)))\n",
    "\n",
    "#Assign the Keywords and their Frequencies into the new table\n",
    "df_au = pd.DataFrame(wordlist_au, columns = ['Keyword', 'Frequencies'])\n",
    "df_au"
   ]
  },
  {
   "cell_type": "markdown",
   "metadata": {},
   "source": [
    "In this part, I used for loop to count the word frequency of title_au. I also created a data frame to integrate keywords and word frequencies to be easily used for the visualisation part."
   ]
  },
  {
   "cell_type": "code",
   "execution_count": null,
   "metadata": {},
   "outputs": [
    {
     "data": {
      "text/plain": [
       "{'Armitage',\n",
       " 'Austrian',\n",
       " 'Could',\n",
       " 'Finland’s',\n",
       " 'HSBC',\n",
       " 'IMF',\n",
       " 'Poet',\n",
       " 'Putin',\n",
       " 'Resistance',\n",
       " 'Russia-Ukraine',\n",
       " 'Simon',\n",
       " 'UN',\n",
       " 'Ukraine',\n",
       " 'agency',\n",
       " 'aid',\n",
       " 'analyst',\n",
       " 'and',\n",
       " 'bunkers',\n",
       " 'casualties,',\n",
       " 'chancellor',\n",
       " 'chief',\n",
       " 'confronts',\n",
       " 'crimes',\n",
       " 'criticised',\n",
       " 'cuts',\n",
       " 'day',\n",
       " 'eight',\n",
       " 'end',\n",
       " 'focus',\n",
       " 'forecast',\n",
       " 'from',\n",
       " 'global',\n",
       " 'goals,',\n",
       " 'growth',\n",
       " 'heating',\n",
       " 'help',\n",
       " 'hydrocarbons?',\n",
       " 'in',\n",
       " 'its',\n",
       " 'know',\n",
       " 'laureate',\n",
       " 'network',\n",
       " 'new',\n",
       " 'numbers:',\n",
       " 'of',\n",
       " 'on',\n",
       " 'over',\n",
       " 'poem',\n",
       " 'puts',\n",
       " 'references',\n",
       " 'refugee',\n",
       " 'refugees',\n",
       " 'reliance',\n",
       " 'reports',\n",
       " 'response',\n",
       " 'threatens',\n",
       " 'to',\n",
       " 'war',\n",
       " 'war:',\n",
       " 'warns',\n",
       " 'we',\n",
       " 'west’s',\n",
       " 'what',\n",
       " 'writes',\n",
       " '‘war’'}"
      ]
     },
     "execution_count": 74,
     "metadata": {},
     "output_type": "execute_result"
    }
   ],
   "source": [
    "#split the list of title_au into string for the following step\n",
    "wordstring_uk=title_uk[0].split()\n",
    "wordstring_uk+=title_uk[1].split()\n",
    "wordstring_uk+=title_uk[2].split()\n",
    "wordstring_uk+=title_uk[3].split()\n",
    "wordstring_uk+=title_uk[4].split()\n",
    "wordstring_uk+=title_uk[5].split()\n",
    "wordstring_uk+=title_uk[6].split()\n",
    "wordstring_uk+=title_uk[7].split()\n",
    "wordstring_uk+=title_uk[8].split()\n",
    "wordstring_uk+=title_uk[9].split()\n",
    "wordstring_net_uk=set(wordstring_uk)\n",
    "wordstring_net_uk"
   ]
  },
  {
   "cell_type": "code",
   "execution_count": null,
   "metadata": {},
   "outputs": [
    {
     "data": {
      "text/html": [
       "<div>\n",
       "<style scoped>\n",
       "    .dataframe tbody tr th:only-of-type {\n",
       "        vertical-align: middle;\n",
       "    }\n",
       "\n",
       "    .dataframe tbody tr th {\n",
       "        vertical-align: top;\n",
       "    }\n",
       "\n",
       "    .dataframe thead th {\n",
       "        text-align: right;\n",
       "    }\n",
       "</style>\n",
       "<table border=\"1\" class=\"dataframe\">\n",
       "  <thead>\n",
       "    <tr style=\"text-align: right;\">\n",
       "      <th></th>\n",
       "      <th>Keyword</th>\n",
       "      <th>Frequencies</th>\n",
       "    </tr>\n",
       "  </thead>\n",
       "  <tbody>\n",
       "    <tr>\n",
       "      <th>0</th>\n",
       "      <td>hydrocarbons?</td>\n",
       "      <td>1</td>\n",
       "    </tr>\n",
       "    <tr>\n",
       "      <th>1</th>\n",
       "      <td>numbers:</td>\n",
       "      <td>1</td>\n",
       "    </tr>\n",
       "    <tr>\n",
       "      <th>2</th>\n",
       "      <td>puts</td>\n",
       "      <td>1</td>\n",
       "    </tr>\n",
       "    <tr>\n",
       "      <th>3</th>\n",
       "      <td>references</td>\n",
       "      <td>1</td>\n",
       "    </tr>\n",
       "    <tr>\n",
       "      <th>4</th>\n",
       "      <td>global</td>\n",
       "      <td>2</td>\n",
       "    </tr>\n",
       "    <tr>\n",
       "      <th>...</th>\n",
       "      <td>...</td>\n",
       "      <td>...</td>\n",
       "    </tr>\n",
       "    <tr>\n",
       "      <th>60</th>\n",
       "      <td>bunkers</td>\n",
       "      <td>1</td>\n",
       "    </tr>\n",
       "    <tr>\n",
       "      <th>61</th>\n",
       "      <td>end</td>\n",
       "      <td>1</td>\n",
       "    </tr>\n",
       "    <tr>\n",
       "      <th>62</th>\n",
       "      <td>crimes</td>\n",
       "      <td>1</td>\n",
       "    </tr>\n",
       "    <tr>\n",
       "      <th>63</th>\n",
       "      <td>help</td>\n",
       "      <td>1</td>\n",
       "    </tr>\n",
       "    <tr>\n",
       "      <th>64</th>\n",
       "      <td>network</td>\n",
       "      <td>1</td>\n",
       "    </tr>\n",
       "  </tbody>\n",
       "</table>\n",
       "<p>65 rows × 2 columns</p>\n",
       "</div>"
      ],
      "text/plain": [
       "          Keyword  Frequencies\n",
       "0   hydrocarbons?            1\n",
       "1        numbers:            1\n",
       "2            puts            1\n",
       "3      references            1\n",
       "4          global            2\n",
       "..            ...          ...\n",
       "60        bunkers            1\n",
       "61            end            1\n",
       "62         crimes            1\n",
       "63           help            1\n",
       "64        network            1\n",
       "\n",
       "[65 rows x 2 columns]"
      ]
     },
     "execution_count": 75,
     "metadata": {},
     "output_type": "execute_result"
    }
   ],
   "source": [
    "#Create new list\n",
    "wordfreq_uk = []\n",
    "#Count the frequencies of keywords\n",
    "for w in wordstring_uk:\n",
    "    wordfreq_uk.append(wordstring_uk.count(w))\n",
    "\n",
    "wordlist_uk=list(set(zip(wordstring_uk, wordfreq_uk)))\n",
    "\n",
    "#Assign the Keywords and their Frequencies into the new table\n",
    "df_uk = pd.DataFrame(wordlist_uk, columns = ['Keyword', 'Frequencies'])\n",
    "df_uk"
   ]
  },
  {
   "cell_type": "code",
   "execution_count": null,
   "metadata": {},
   "outputs": [
    {
     "data": {
      "text/html": [
       "<div>\n",
       "<style scoped>\n",
       "    .dataframe tbody tr th:only-of-type {\n",
       "        vertical-align: middle;\n",
       "    }\n",
       "\n",
       "    .dataframe tbody tr th {\n",
       "        vertical-align: top;\n",
       "    }\n",
       "\n",
       "    .dataframe thead th {\n",
       "        text-align: right;\n",
       "    }\n",
       "</style>\n",
       "<table border=\"1\" class=\"dataframe\">\n",
       "  <thead>\n",
       "    <tr style=\"text-align: right;\">\n",
       "      <th></th>\n",
       "      <th>Keyword</th>\n",
       "      <th>Frequencies</th>\n",
       "    </tr>\n",
       "  </thead>\n",
       "  <tbody>\n",
       "    <tr>\n",
       "      <th>0</th>\n",
       "      <td>war:</td>\n",
       "      <td>9</td>\n",
       "    </tr>\n",
       "    <tr>\n",
       "      <th>6</th>\n",
       "      <td>Russia-Ukraine</td>\n",
       "      <td>9</td>\n",
       "    </tr>\n",
       "    <tr>\n",
       "      <th>7</th>\n",
       "      <td>the</td>\n",
       "      <td>9</td>\n",
       "    </tr>\n",
       "    <tr>\n",
       "      <th>10</th>\n",
       "      <td>we</td>\n",
       "      <td>9</td>\n",
       "    </tr>\n",
       "    <tr>\n",
       "      <th>15</th>\n",
       "      <td>know</td>\n",
       "      <td>9</td>\n",
       "    </tr>\n",
       "    <tr>\n",
       "      <th>17</th>\n",
       "      <td>invasion</td>\n",
       "      <td>9</td>\n",
       "    </tr>\n",
       "    <tr>\n",
       "      <th>24</th>\n",
       "      <td>what</td>\n",
       "      <td>9</td>\n",
       "    </tr>\n",
       "    <tr>\n",
       "      <th>26</th>\n",
       "      <td>day</td>\n",
       "      <td>9</td>\n",
       "    </tr>\n",
       "    <tr>\n",
       "      <th>27</th>\n",
       "      <td>on</td>\n",
       "      <td>9</td>\n",
       "    </tr>\n",
       "    <tr>\n",
       "      <th>28</th>\n",
       "      <td>of</td>\n",
       "      <td>9</td>\n",
       "    </tr>\n",
       "  </tbody>\n",
       "</table>\n",
       "</div>"
      ],
      "text/plain": [
       "           Keyword  Frequencies\n",
       "0             war:            9\n",
       "6   Russia-Ukraine            9\n",
       "7              the            9\n",
       "10              we            9\n",
       "15            know            9\n",
       "17        invasion            9\n",
       "24            what            9\n",
       "26             day            9\n",
       "27              on            9\n",
       "28              of            9"
      ]
     },
     "execution_count": 76,
     "metadata": {},
     "output_type": "execute_result"
    }
   ],
   "source": [
    "#Extract high frequency keywords in the keyword dataframe\n",
    "df_aukey=df_au[df_au[\"Frequencies\"]>1]\n",
    "df_aukey"
   ]
  },
  {
   "cell_type": "markdown",
   "metadata": {},
   "source": [
    "I extract the high frequency keywords by comparing their frequencies. "
   ]
  },
  {
   "cell_type": "code",
   "execution_count": null,
   "metadata": {},
   "outputs": [
    {
     "data": {
      "text/html": [
       "<div>\n",
       "<style scoped>\n",
       "    .dataframe tbody tr th:only-of-type {\n",
       "        vertical-align: middle;\n",
       "    }\n",
       "\n",
       "    .dataframe tbody tr th {\n",
       "        vertical-align: top;\n",
       "    }\n",
       "\n",
       "    .dataframe thead th {\n",
       "        text-align: right;\n",
       "    }\n",
       "</style>\n",
       "<table border=\"1\" class=\"dataframe\">\n",
       "  <thead>\n",
       "    <tr style=\"text-align: right;\">\n",
       "      <th></th>\n",
       "      <th>Keyword</th>\n",
       "      <th>Frequencies</th>\n",
       "    </tr>\n",
       "  </thead>\n",
       "  <tbody>\n",
       "    <tr>\n",
       "      <th>4</th>\n",
       "      <td>global</td>\n",
       "      <td>2</td>\n",
       "    </tr>\n",
       "    <tr>\n",
       "      <th>5</th>\n",
       "      <td>UN</td>\n",
       "      <td>2</td>\n",
       "    </tr>\n",
       "    <tr>\n",
       "      <th>6</th>\n",
       "      <td>cuts</td>\n",
       "      <td>2</td>\n",
       "    </tr>\n",
       "    <tr>\n",
       "      <th>7</th>\n",
       "      <td>war</td>\n",
       "      <td>8</td>\n",
       "    </tr>\n",
       "    <tr>\n",
       "      <th>9</th>\n",
       "      <td>Ukraine</td>\n",
       "      <td>8</td>\n",
       "    </tr>\n",
       "    <tr>\n",
       "      <th>22</th>\n",
       "      <td>Russia-Ukraine</td>\n",
       "      <td>2</td>\n",
       "    </tr>\n",
       "    <tr>\n",
       "      <th>32</th>\n",
       "      <td>to</td>\n",
       "      <td>2</td>\n",
       "    </tr>\n",
       "    <tr>\n",
       "      <th>45</th>\n",
       "      <td>over</td>\n",
       "      <td>3</td>\n",
       "    </tr>\n",
       "    <tr>\n",
       "      <th>46</th>\n",
       "      <td>on</td>\n",
       "      <td>3</td>\n",
       "    </tr>\n",
       "  </tbody>\n",
       "</table>\n",
       "</div>"
      ],
      "text/plain": [
       "           Keyword  Frequencies\n",
       "4           global            2\n",
       "5               UN            2\n",
       "6             cuts            2\n",
       "7              war            8\n",
       "9          Ukraine            8\n",
       "22  Russia-Ukraine            2\n",
       "32              to            2\n",
       "45            over            3\n",
       "46              on            3"
      ]
     },
     "execution_count": 77,
     "metadata": {},
     "output_type": "execute_result"
    }
   ],
   "source": [
    "#Extract high frequency keywords in the keyword dataframe\n",
    "df_ukkey=df_uk[df_uk[\"Frequencies\"]>1]\n",
    "df_ukkey"
   ]
  },
  {
   "cell_type": "markdown",
   "metadata": {},
   "source": [
    "### 2.4 Visualisation"
   ]
  },
  {
   "cell_type": "code",
   "execution_count": null,
   "metadata": {},
   "outputs": [
    {
     "data": {
      "text/plain": [
       "<AxesSubplot:title={'center':'Q1 AUS Headlines Keywords Frequencies'}, xlabel='Keyword'>"
      ]
     },
     "execution_count": 78,
     "metadata": {},
     "output_type": "execute_result"
    },
    {
     "data": {
      "image/png": "[encoded data removed]",
      "text/plain": [
       "<Figure size 792x360 with 1 Axes>"
      ]
     },
     "metadata": {
      "needs_background": "light"
     },
     "output_type": "display_data"
    }
   ],
   "source": [
    "# Visualise the results\n",
    "df_au.set_index('Keyword', inplace=True)\n",
    "#Creating the bar chart\n",
    "df_au.plot(kind=\"bar\", figsize=(11,5), title=\"Q1 AUS Headlines Keywords Frequencies\", color='#7B68EE')"
   ]
  },
  {
   "cell_type": "markdown",
   "metadata": {},
   "source": [
    "I planned to use a pie chart to show the relationship between headline keywords and headlines, but I gave up because too many keywords make the pie chart look very cluttered. I chose to use the bar chart because it makes the data look clear at a glance."
   ]
  },
  {
   "cell_type": "code",
   "execution_count": null,
   "metadata": {},
   "outputs": [
    {
     "data": {
      "text/plain": [
       "<AxesSubplot:title={'center':'Q1 UK Headlines Keywords Frequencies'}, xlabel='Keyword'>"
      ]
     },
     "execution_count": 79,
     "metadata": {},
     "output_type": "execute_result"
    },
    {
     "data": {
      "image/png": "[encoded data removed]",
      "text/plain": [
       "<Figure size 792x360 with 1 Axes>"
      ]
     },
     "metadata": {
      "needs_background": "light"
     },
     "output_type": "display_data"
    }
   ],
   "source": [
    "# Visualise the results\n",
    "df_uk.set_index('Keyword', inplace=True)\n",
    "#Creating the bar chart\n",
    "df_uk.plot(kind=\"bar\", figsize=(11,5), title=\"Q1 UK Headlines Keywords Frequencies\", color='#B0E0E6')"
   ]
  },
  {
   "cell_type": "code",
   "execution_count": null,
   "metadata": {},
   "outputs": [
    {
     "data": {
      "text/plain": [
       "Text(0.5, 1.0, 'Q2 UK HeadLines Most Frequent Keywords')"
      ]
     },
     "execution_count": 80,
     "metadata": {},
     "output_type": "execute_result"
    },
    {
     "data": {
      "image/png": "[encoded data removed]",
      "text/plain": [
       "<Figure size 640x640 with 2 Axes>"
      ]
     },
     "metadata": {},
     "output_type": "display_data"
    }
   ],
   "source": [
    "#Creating the pie chart\n",
    "pic2 = plt.figure(figsize=(8,8),dpi=80) \n",
    "\n",
    "fig1 = pic2.add_subplot(1,2,1)\n",
    "keywords = df_aukey[\"Keyword\"]\n",
    "frequencies = df_aukey[\"Frequencies\"]\n",
    "plt.pie(frequencies,\n",
    "        labels = keywords,\n",
    "        autopct='%.2f%%',\n",
    "        colors = ['#F0F8FF','#E6E6FA','#B0E0E6','#7B68EE','#483D8B'])\n",
    "#Adding the aesthetics\n",
    "plt.title('Q2 AUS HeadLines Most Frequent Keywords',fontsize=10)\n",
    "\n",
    "fig2 = pic2.add_subplot(1,2,2)\n",
    "keywords = df_ukkey[\"Keyword\"]\n",
    "frequencies = df_ukkey[\"Frequencies\"]\n",
    "plt.pie(frequencies,\n",
    "        labels = keywords,\n",
    "        autopct='%.2f%%',\n",
    "        colors = ['#F0F8FF','#E6E6FA','#B0E0E6','#7B68EE','#483D8B']) \n",
    "#Adding the aesthetics\n",
    "plt.title('Q2 UK HeadLines Most Frequent Keywords',fontsize=10)\n"
   ]
  },
  {
   "cell_type": "markdown",
   "metadata": {},
   "source": [
    "I chose to use a pie chart because the number of high frequency keywords in this section is small, and it is suitable to use a pie chart to show its number and the comparison between the two countries. Because of its intuitive display of number and information."
   ]
  },
  {
   "cell_type": "markdown",
   "metadata": {},
   "source": [
    "### 2.5 Insight"
   ]
  },
  {
   "cell_type": "markdown",
   "metadata": {},
   "source": [
    "*## Your insights from the analysis. Ensure that you address the question ##*\n",
    "- **Q1: How are Australia and the United Kingdom headlines treating the Ukraine war？**\n",
    "\n",
    "**Answer&Insight**：In this part, I processed and analysed the headlines. I extracted keywords and counted the word frequency. We can see the difference in the frequency of headline keywords in these two countries from the data visualisation bar charts.\n",
    "\n",
    "This Ukrainian company can find the information of keywords both in the analysis and visualisation part.\n",
    "\n",
    "So far, we can see that Australia's headlines about the war in Ukraine are pretty similar. It comes with a small number of distinct keywords and many repetitions. Keywords in its headline message about the war in Ukraine reveal its dissatisfaction with Russia in the war, which is what the Ukrainian company wants to see.\n",
    "\n",
    "UK headlines for the war in Ukraine are keyword-rich, which means that the UK headlines include coverage of the war in Ukraine in many aspects. It contains a large number of distinct keywords. However, they also reveal a similar attitude to the war in Ukraine, just like Australia.\n",
    "\n",
    "- **Q2: What country should this Ukrainian company starts their business in and help them succeed?**\n",
    "\n",
    "**Answer&Insight**：According to the needs of the Ukrainian company, I extracted the high-frequency keywords in the headline keyword frequency in both Australia and the United Kingdom and visually compared the high-frequency headline keywords of the two countries with a pie chart.\n",
    "\n",
    "The similarities between the news presented to Australia and the UK should be the two countries' anger and condemnation of Russia's behaviour about the war in Ukraine. This Ukrainian company takes this attitude very seriously, and the management certainly does not want to go to a country that has opposite opinions to themselves to start a new business. If so, that country would be challenging to work in.\n",
    "\n",
    "The differences between the news presented to Australia and the UK should be the direction and content diversity of headlines of the war in Ukrainian. We can see this information in the pie chart in the data visualisation section. In comparison, Australia's headlines all point to the war itself with very few other related aspects information of the war in Ukrainian. Nevertheless, the UK's headlines include the economy, global content about the war in Ukrainian and more.\n",
    "\n",
    "In addition, the wording of the UK headlines is more conservative. In several similar headlines between the UK and Australia, the UK did not choose to use some of the accusatory words like Australia did, although they conveyed the same attitude.\n",
    "\n",
    "The Ukrainian company agreed with the UK media. They believed that Britain was not only concerned with the war itself but also sensitive to its multifaceted effects and economic aspects. It means that they have a better chance of success if they choose the UK to start a new business because more potential opportunities exist."
   ]
  }
 ],
 "metadata": {
  "kernelspec": {
   "display_name": "base",
   "language": "python",
   "name": "python3"
  },
  "language_info": {
   "codemirror_mode": {
    "name": "ipython",
    "version": 3
   },
   "file_extension": ".py",
   "mimetype": "text/x-python",
   "name": "python",
   "nbconvert_exporter": "python",
   "pygments_lexer": "ipython3",
   "version": "3.9.13"
  }
 },
 "nbformat": 4,
 "nbformat_minor": 4
}
